{
 "cells": [
  {
   "cell_type": "code",
   "execution_count": 20,
   "metadata": {},
   "outputs": [
    {
     "data": {
      "text/plain": [
       "'\\nTime series analysis.\\nDataset showing honey production numbers and prices by state from 1998-2012\\n\\nyieldpercol: Yield per colony (lbs)\\ntotalprod: Total production (numcol*yieldpercol), (lbs)\\nstocks: Stocks held by producers on Dec 15 (lbs)\\npriceperlb: Average price per pound ($)\\nprodvalue: Value of production (totalprod*prodvalue), ($)\\nyear: Year the data pertains to\\n\\n1. How has honey production yield changed from 1998 to 2012?\\n2. Over time, which states produce the most honey? Which produce the least? Which have experienced the most change in honey yield?\\n3. Does the data show any trends in terms of the number of honey producing colonies and yield per colony before 2006, \\n    which was when concern over Colony Collapse Disorder spread nationwide?\\n4. Are there any patterns that can be observed between total honey production and value of production every year?\\n    How has value of production, which in some sense could be tied to demand, changed every year?\\n'"
      ]
     },
     "execution_count": 20,
     "metadata": {},
     "output_type": "execute_result"
    }
   ],
   "source": [
    "%reset\n",
    "'''\n",
    "Time series analysis.\n",
    "Dataset showing honey production numbers and prices by state from 1998-2012\n",
    "https://www.kaggle.com/balarka/honey-productionanalysis-usa/data\n",
    "\n",
    "- numcol: Number of honey producing colonies. Honey producing colonies are the maximum number of colonies from which honey was taken during the year. \n",
    "It is possible to take honey from colonies which did not survive the entire year\n",
    "- yieldpercol: Honey yield per colony. Unit is pounds\n",
    "- totalprod: Total production (numcol x yieldpercol). Unit is pounds\n",
    "- stocks: Refers to stocks held by producers. Unit is pounds\n",
    "- priceperlb: Refers to average price per pound based on expanded sales. Unit is dollars.\n",
    "- prodvalue: Value of production (totalprod x priceperlb). Unit is dollars.\n",
    "\n",
    "Other useful information: \n",
    "Certain states are excluded every year (ex. CT) to avoid disclosing data for individual operations. \n",
    "Due to rounding, total colonies multiplied by total yield may not equal production. \n",
    "Also, summation of states will not equal U.S. level value of production.\n",
    "\n",
    "1. How has honey production yield changed from 1998 to 2012?\n",
    "2. Over time, which states produce the most honey? Which produce the least? Which have experienced the most change in honey yield?\n",
    "3. Does the data show any trends in terms of the number of honey producing colonies and yield per colony before 2006, \n",
    "    which was when concern over Colony Collapse Disorder spread nationwide?\n",
    "4. Are there any patterns that can be observed between total honey production and value of production every year?\n",
    "    How has value of production, which in some sense could be tied to demand, changed every year?\n",
    "'''"
   ]
  },
  {
   "cell_type": "code",
   "execution_count": 21,
   "metadata": {},
   "outputs": [],
   "source": [
    "import numpy as np\n",
    "import pandas as pd\n",
    "import matplotlib.pyplot as plt\n",
    "import seaborn as sns\n",
    "%matplotlib inline\n",
    "\n",
    "import warnings\n",
    "warnings.filterwarnings(action='once')"
   ]
  },
  {
   "cell_type": "code",
   "execution_count": 22,
   "metadata": {},
   "outputs": [
    {
     "data": {
      "text/html": [
       "<div>\n",
       "<style scoped>\n",
       "    .dataframe tbody tr th:only-of-type {\n",
       "        vertical-align: middle;\n",
       "    }\n",
       "\n",
       "    .dataframe tbody tr th {\n",
       "        vertical-align: top;\n",
       "    }\n",
       "\n",
       "    .dataframe thead th {\n",
       "        text-align: right;\n",
       "    }\n",
       "</style>\n",
       "<table border=\"1\" class=\"dataframe\">\n",
       "  <thead>\n",
       "    <tr style=\"text-align: right;\">\n",
       "      <th></th>\n",
       "      <th>state</th>\n",
       "      <th>numcol</th>\n",
       "      <th>yieldpercol</th>\n",
       "      <th>totalprod</th>\n",
       "      <th>stocks</th>\n",
       "      <th>priceperlb</th>\n",
       "      <th>prodvalue</th>\n",
       "      <th>year</th>\n",
       "    </tr>\n",
       "  </thead>\n",
       "  <tbody>\n",
       "    <tr>\n",
       "      <th>0</th>\n",
       "      <td>AL</td>\n",
       "      <td>16000.0</td>\n",
       "      <td>71</td>\n",
       "      <td>1136000.0</td>\n",
       "      <td>159000.0</td>\n",
       "      <td>0.72</td>\n",
       "      <td>818000.0</td>\n",
       "      <td>1998</td>\n",
       "    </tr>\n",
       "    <tr>\n",
       "      <th>1</th>\n",
       "      <td>AZ</td>\n",
       "      <td>55000.0</td>\n",
       "      <td>60</td>\n",
       "      <td>3300000.0</td>\n",
       "      <td>1485000.0</td>\n",
       "      <td>0.64</td>\n",
       "      <td>2112000.0</td>\n",
       "      <td>1998</td>\n",
       "    </tr>\n",
       "    <tr>\n",
       "      <th>2</th>\n",
       "      <td>AR</td>\n",
       "      <td>53000.0</td>\n",
       "      <td>65</td>\n",
       "      <td>3445000.0</td>\n",
       "      <td>1688000.0</td>\n",
       "      <td>0.59</td>\n",
       "      <td>2033000.0</td>\n",
       "      <td>1998</td>\n",
       "    </tr>\n",
       "    <tr>\n",
       "      <th>3</th>\n",
       "      <td>CA</td>\n",
       "      <td>450000.0</td>\n",
       "      <td>83</td>\n",
       "      <td>37350000.0</td>\n",
       "      <td>12326000.0</td>\n",
       "      <td>0.62</td>\n",
       "      <td>23157000.0</td>\n",
       "      <td>1998</td>\n",
       "    </tr>\n",
       "    <tr>\n",
       "      <th>4</th>\n",
       "      <td>CO</td>\n",
       "      <td>27000.0</td>\n",
       "      <td>72</td>\n",
       "      <td>1944000.0</td>\n",
       "      <td>1594000.0</td>\n",
       "      <td>0.70</td>\n",
       "      <td>1361000.0</td>\n",
       "      <td>1998</td>\n",
       "    </tr>\n",
       "  </tbody>\n",
       "</table>\n",
       "</div>"
      ],
      "text/plain": [
       "  state    numcol  yieldpercol   totalprod      stocks  priceperlb  \\\n",
       "0    AL   16000.0           71   1136000.0    159000.0        0.72   \n",
       "1    AZ   55000.0           60   3300000.0   1485000.0        0.64   \n",
       "2    AR   53000.0           65   3445000.0   1688000.0        0.59   \n",
       "3    CA  450000.0           83  37350000.0  12326000.0        0.62   \n",
       "4    CO   27000.0           72   1944000.0   1594000.0        0.70   \n",
       "\n",
       "    prodvalue  year  \n",
       "0    818000.0  1998  \n",
       "1   2112000.0  1998  \n",
       "2   2033000.0  1998  \n",
       "3  23157000.0  1998  \n",
       "4   1361000.0  1998  "
      ]
     },
     "execution_count": 22,
     "metadata": {},
     "output_type": "execute_result"
    }
   ],
   "source": [
    "data_raw = pd.read_csv('honeyproduction.csv')\n",
    "data_raw.head()"
   ]
  },
  {
   "cell_type": "code",
   "execution_count": 37,
   "metadata": {},
   "outputs": [
    {
     "data": {
      "text/html": [
       "<div>\n",
       "<style scoped>\n",
       "    .dataframe tbody tr th:only-of-type {\n",
       "        vertical-align: middle;\n",
       "    }\n",
       "\n",
       "    .dataframe tbody tr th {\n",
       "        vertical-align: top;\n",
       "    }\n",
       "\n",
       "    .dataframe thead th {\n",
       "        text-align: right;\n",
       "    }\n",
       "</style>\n",
       "<table border=\"1\" class=\"dataframe\">\n",
       "  <thead>\n",
       "    <tr style=\"text-align: right;\">\n",
       "      <th></th>\n",
       "      <th>state</th>\n",
       "      <th>no_colonies</th>\n",
       "      <th>yield_per_colony</th>\n",
       "      <th>production_total</th>\n",
       "      <th>stocks</th>\n",
       "      <th>price_per_lb</th>\n",
       "      <th>production_value</th>\n",
       "      <th>year</th>\n",
       "    </tr>\n",
       "  </thead>\n",
       "  <tbody>\n",
       "    <tr>\n",
       "      <th>0</th>\n",
       "      <td>AL</td>\n",
       "      <td>16000.0</td>\n",
       "      <td>71</td>\n",
       "      <td>1136000.0</td>\n",
       "      <td>159000.0</td>\n",
       "      <td>0.72</td>\n",
       "      <td>818000.0</td>\n",
       "      <td>1998</td>\n",
       "    </tr>\n",
       "    <tr>\n",
       "      <th>1</th>\n",
       "      <td>AZ</td>\n",
       "      <td>55000.0</td>\n",
       "      <td>60</td>\n",
       "      <td>3300000.0</td>\n",
       "      <td>1485000.0</td>\n",
       "      <td>0.64</td>\n",
       "      <td>2112000.0</td>\n",
       "      <td>1998</td>\n",
       "    </tr>\n",
       "    <tr>\n",
       "      <th>2</th>\n",
       "      <td>AR</td>\n",
       "      <td>53000.0</td>\n",
       "      <td>65</td>\n",
       "      <td>3445000.0</td>\n",
       "      <td>1688000.0</td>\n",
       "      <td>0.59</td>\n",
       "      <td>2033000.0</td>\n",
       "      <td>1998</td>\n",
       "    </tr>\n",
       "    <tr>\n",
       "      <th>3</th>\n",
       "      <td>CA</td>\n",
       "      <td>450000.0</td>\n",
       "      <td>83</td>\n",
       "      <td>37350000.0</td>\n",
       "      <td>12326000.0</td>\n",
       "      <td>0.62</td>\n",
       "      <td>23157000.0</td>\n",
       "      <td>1998</td>\n",
       "    </tr>\n",
       "    <tr>\n",
       "      <th>4</th>\n",
       "      <td>CO</td>\n",
       "      <td>27000.0</td>\n",
       "      <td>72</td>\n",
       "      <td>1944000.0</td>\n",
       "      <td>1594000.0</td>\n",
       "      <td>0.70</td>\n",
       "      <td>1361000.0</td>\n",
       "      <td>1998</td>\n",
       "    </tr>\n",
       "  </tbody>\n",
       "</table>\n",
       "</div>"
      ],
      "text/plain": [
       "  state  no_colonies  yield_per_colony  production_total      stocks  \\\n",
       "0    AL      16000.0                71         1136000.0    159000.0   \n",
       "1    AZ      55000.0                60         3300000.0   1485000.0   \n",
       "2    AR      53000.0                65         3445000.0   1688000.0   \n",
       "3    CA     450000.0                83        37350000.0  12326000.0   \n",
       "4    CO      27000.0                72         1944000.0   1594000.0   \n",
       "\n",
       "   price_per_lb  production_value  year  \n",
       "0          0.72          818000.0  1998  \n",
       "1          0.64         2112000.0  1998  \n",
       "2          0.59         2033000.0  1998  \n",
       "3          0.62        23157000.0  1998  \n",
       "4          0.70         1361000.0  1998  "
      ]
     },
     "execution_count": 37,
     "metadata": {},
     "output_type": "execute_result"
    }
   ],
   "source": [
    "def data_transformation(data_raw):\n",
    "    result = data_raw.copy()\n",
    "    result = result.rename(columns={\n",
    "        'numcol': 'no_colonies',\n",
    "        'yieldpercol': 'yield_per_colony',\n",
    "        'totalprod': 'production_total',\n",
    "        'stocks': 'stocks',\n",
    "        'priceperlb': 'price_per_lb',\n",
    "        'prodvalue': 'production_value',\n",
    "        'year': 'year'})\n",
    "    return result\n",
    "\n",
    "data = data_transformation(data_raw)\n",
    "data.head()"
   ]
  },
  {
   "cell_type": "code",
   "execution_count": 106,
   "metadata": {},
   "outputs": [],
   "source": [
    "def show_yield_trend(df, state=None):\n",
    "    if state:\n",
    "        viz = df[df['state'] == state].copy()\n",
    "    else:\n",
    "        viz = df.copy()\n",
    "    data_yield_total = viz[['year', 'yield_per_colony']].groupby('year').agg('sum')\n",
    "    plt.figure(figsize=(10,3))\n",
    "    plt.plot(data_yield_total)"
   ]
  },
  {
   "cell_type": "markdown",
   "metadata": {},
   "source": [
    "# How has honey production yield changed from 1998 to 2012?"
   ]
  },
  {
   "cell_type": "code",
   "execution_count": 108,
   "metadata": {},
   "outputs": [
    {
     "data": {
      "image/png": "[encoded data removed]",
      "text/plain": [
       "<Figure size 720x216 with 1 Axes>"
      ]
     },
     "metadata": {},
     "output_type": "display_data"
    }
   ],
   "source": [
    "show_yield_trend(data)"
   ]
  },
  {
   "cell_type": "markdown",
   "metadata": {},
   "source": [
    "# Over time, which states produce the most honey? Which produce the least? Which have experienced the most change in honey yield?"
   ]
  },
  {
   "cell_type": "code",
   "execution_count": 67,
   "metadata": {},
   "outputs": [
    {
     "data": {
      "text/plain": [
       "<matplotlib.axes._subplots.AxesSubplot at 0x1c202a76a0>"
      ]
     },
     "execution_count": 67,
     "metadata": {},
     "output_type": "execute_result"
    },
    {
     "data": {
      "image/png": "[encoded data removed]",
      "text/plain": [
       "<Figure size 1080x360 with 1 Axes>"
      ]
     },
     "metadata": {},
     "output_type": "display_data"
    }
   ],
   "source": [
    "viz = (data[['production_total', 'state']]\n",
    "       .groupby('state')\n",
    "       .agg('sum').sort_values('production_total', ascending=False).reset_index())\n",
    "plt.figure(figsize=(15,5))\n",
    "sns.barplot(x='state', y='production_total', data=viz)"
   ]
  },
  {
   "cell_type": "code",
   "execution_count": 130,
   "metadata": {},
   "outputs": [
    {
     "data": {
      "text/html": [
       "<div>\n",
       "<style scoped>\n",
       "    .dataframe tbody tr th:only-of-type {\n",
       "        vertical-align: middle;\n",
       "    }\n",
       "\n",
       "    .dataframe tbody tr th {\n",
       "        vertical-align: top;\n",
       "    }\n",
       "\n",
       "    .dataframe thead th {\n",
       "        text-align: right;\n",
       "    }\n",
       "</style>\n",
       "<table border=\"1\" class=\"dataframe\">\n",
       "  <thead>\n",
       "    <tr style=\"text-align: right;\">\n",
       "      <th></th>\n",
       "      <th>state</th>\n",
       "      <th>yield_change</th>\n",
       "    </tr>\n",
       "  </thead>\n",
       "  <tbody>\n",
       "    <tr>\n",
       "      <th>32</th>\n",
       "      <td>CA</td>\n",
       "      <td>-177.504990</td>\n",
       "    </tr>\n",
       "    <tr>\n",
       "      <th>12</th>\n",
       "      <td>MT</td>\n",
       "      <td>-148.186553</td>\n",
       "    </tr>\n",
       "    <tr>\n",
       "      <th>5</th>\n",
       "      <td>SD</td>\n",
       "      <td>-126.916349</td>\n",
       "    </tr>\n",
       "    <tr>\n",
       "      <th>13</th>\n",
       "      <td>NJ</td>\n",
       "      <td>-110.874418</td>\n",
       "    </tr>\n",
       "    <tr>\n",
       "      <th>15</th>\n",
       "      <td>IN</td>\n",
       "      <td>-98.177429</td>\n",
       "    </tr>\n",
       "    <tr>\n",
       "      <th>18</th>\n",
       "      <td>ID</td>\n",
       "      <td>-95.104055</td>\n",
       "    </tr>\n",
       "    <tr>\n",
       "      <th>19</th>\n",
       "      <td>HI</td>\n",
       "      <td>-87.969060</td>\n",
       "    </tr>\n",
       "    <tr>\n",
       "      <th>4</th>\n",
       "      <td>ND</td>\n",
       "      <td>-82.221682</td>\n",
       "    </tr>\n",
       "    <tr>\n",
       "      <th>21</th>\n",
       "      <td>UT</td>\n",
       "      <td>-80.524133</td>\n",
       "    </tr>\n",
       "    <tr>\n",
       "      <th>37</th>\n",
       "      <td>NC</td>\n",
       "      <td>-69.991704</td>\n",
       "    </tr>\n",
       "    <tr>\n",
       "      <th>24</th>\n",
       "      <td>KY</td>\n",
       "      <td>-69.795945</td>\n",
       "    </tr>\n",
       "    <tr>\n",
       "      <th>40</th>\n",
       "      <td>NV</td>\n",
       "      <td>-67.261571</td>\n",
       "    </tr>\n",
       "    <tr>\n",
       "      <th>17</th>\n",
       "      <td>NY</td>\n",
       "      <td>-63.970836</td>\n",
       "    </tr>\n",
       "    <tr>\n",
       "      <th>7</th>\n",
       "      <td>CO</td>\n",
       "      <td>-63.389764</td>\n",
       "    </tr>\n",
       "    <tr>\n",
       "      <th>33</th>\n",
       "      <td>NE</td>\n",
       "      <td>-60.759824</td>\n",
       "    </tr>\n",
       "    <tr>\n",
       "      <th>29</th>\n",
       "      <td>WY</td>\n",
       "      <td>-59.706061</td>\n",
       "    </tr>\n",
       "    <tr>\n",
       "      <th>36</th>\n",
       "      <td>IA</td>\n",
       "      <td>-57.200456</td>\n",
       "    </tr>\n",
       "    <tr>\n",
       "      <th>11</th>\n",
       "      <td>VT</td>\n",
       "      <td>-56.575507</td>\n",
       "    </tr>\n",
       "    <tr>\n",
       "      <th>3</th>\n",
       "      <td>FL</td>\n",
       "      <td>-56.421767</td>\n",
       "    </tr>\n",
       "    <tr>\n",
       "      <th>2</th>\n",
       "      <td>IL</td>\n",
       "      <td>-55.815470</td>\n",
       "    </tr>\n",
       "    <tr>\n",
       "      <th>28</th>\n",
       "      <td>MI</td>\n",
       "      <td>-54.552379</td>\n",
       "    </tr>\n",
       "    <tr>\n",
       "      <th>0</th>\n",
       "      <td>AZ</td>\n",
       "      <td>-53.514202</td>\n",
       "    </tr>\n",
       "    <tr>\n",
       "      <th>1</th>\n",
       "      <td>GA</td>\n",
       "      <td>-50.630252</td>\n",
       "    </tr>\n",
       "    <tr>\n",
       "      <th>38</th>\n",
       "      <td>TX</td>\n",
       "      <td>-50.387089</td>\n",
       "    </tr>\n",
       "    <tr>\n",
       "      <th>26</th>\n",
       "      <td>OR</td>\n",
       "      <td>-49.245253</td>\n",
       "    </tr>\n",
       "    <tr>\n",
       "      <th>23</th>\n",
       "      <td>OH</td>\n",
       "      <td>-46.174085</td>\n",
       "    </tr>\n",
       "    <tr>\n",
       "      <th>10</th>\n",
       "      <td>LA</td>\n",
       "      <td>-44.877631</td>\n",
       "    </tr>\n",
       "    <tr>\n",
       "      <th>34</th>\n",
       "      <td>AL</td>\n",
       "      <td>-44.545157</td>\n",
       "    </tr>\n",
       "    <tr>\n",
       "      <th>8</th>\n",
       "      <td>WI</td>\n",
       "      <td>-42.503481</td>\n",
       "    </tr>\n",
       "    <tr>\n",
       "      <th>22</th>\n",
       "      <td>TN</td>\n",
       "      <td>-41.009739</td>\n",
       "    </tr>\n",
       "    <tr>\n",
       "      <th>27</th>\n",
       "      <td>WV</td>\n",
       "      <td>-40.745147</td>\n",
       "    </tr>\n",
       "    <tr>\n",
       "      <th>39</th>\n",
       "      <td>MO</td>\n",
       "      <td>-39.464849</td>\n",
       "    </tr>\n",
       "    <tr>\n",
       "      <th>20</th>\n",
       "      <td>PA</td>\n",
       "      <td>-33.572312</td>\n",
       "    </tr>\n",
       "    <tr>\n",
       "      <th>9</th>\n",
       "      <td>KS</td>\n",
       "      <td>-31.218377</td>\n",
       "    </tr>\n",
       "    <tr>\n",
       "      <th>16</th>\n",
       "      <td>NM</td>\n",
       "      <td>-30.647995</td>\n",
       "    </tr>\n",
       "    <tr>\n",
       "      <th>31</th>\n",
       "      <td>MN</td>\n",
       "      <td>-28.936589</td>\n",
       "    </tr>\n",
       "    <tr>\n",
       "      <th>30</th>\n",
       "      <td>WA</td>\n",
       "      <td>-27.826619</td>\n",
       "    </tr>\n",
       "    <tr>\n",
       "      <th>6</th>\n",
       "      <td>ME</td>\n",
       "      <td>-20.911976</td>\n",
       "    </tr>\n",
       "    <tr>\n",
       "      <th>25</th>\n",
       "      <td>AR</td>\n",
       "      <td>-20.887594</td>\n",
       "    </tr>\n",
       "    <tr>\n",
       "      <th>42</th>\n",
       "      <td>OK</td>\n",
       "      <td>-17.818050</td>\n",
       "    </tr>\n",
       "    <tr>\n",
       "      <th>41</th>\n",
       "      <td>MD</td>\n",
       "      <td>-5.175983</td>\n",
       "    </tr>\n",
       "    <tr>\n",
       "      <th>14</th>\n",
       "      <td>VA</td>\n",
       "      <td>-1.514866</td>\n",
       "    </tr>\n",
       "    <tr>\n",
       "      <th>35</th>\n",
       "      <td>MS</td>\n",
       "      <td>21.589094</td>\n",
       "    </tr>\n",
       "    <tr>\n",
       "      <th>43</th>\n",
       "      <td>SC</td>\n",
       "      <td>23.161094</td>\n",
       "    </tr>\n",
       "  </tbody>\n",
       "</table>\n",
       "</div>"
      ],
      "text/plain": [
       "   state  yield_change\n",
       "32    CA   -177.504990\n",
       "12    MT   -148.186553\n",
       "5     SD   -126.916349\n",
       "13    NJ   -110.874418\n",
       "15    IN    -98.177429\n",
       "18    ID    -95.104055\n",
       "19    HI    -87.969060\n",
       "4     ND    -82.221682\n",
       "21    UT    -80.524133\n",
       "37    NC    -69.991704\n",
       "24    KY    -69.795945\n",
       "40    NV    -67.261571\n",
       "17    NY    -63.970836\n",
       "7     CO    -63.389764\n",
       "33    NE    -60.759824\n",
       "29    WY    -59.706061\n",
       "36    IA    -57.200456\n",
       "11    VT    -56.575507\n",
       "3     FL    -56.421767\n",
       "2     IL    -55.815470\n",
       "28    MI    -54.552379\n",
       "0     AZ    -53.514202\n",
       "1     GA    -50.630252\n",
       "38    TX    -50.387089\n",
       "26    OR    -49.245253\n",
       "23    OH    -46.174085\n",
       "10    LA    -44.877631\n",
       "34    AL    -44.545157\n",
       "8     WI    -42.503481\n",
       "22    TN    -41.009739\n",
       "27    WV    -40.745147\n",
       "39    MO    -39.464849\n",
       "20    PA    -33.572312\n",
       "9     KS    -31.218377\n",
       "16    NM    -30.647995\n",
       "31    MN    -28.936589\n",
       "30    WA    -27.826619\n",
       "6     ME    -20.911976\n",
       "25    AR    -20.887594\n",
       "42    OK    -17.818050\n",
       "41    MD     -5.175983\n",
       "14    VA     -1.514866\n",
       "35    MS     21.589094\n",
       "43    SC     23.161094"
      ]
     },
     "execution_count": 130,
     "metadata": {},
     "output_type": "execute_result"
    }
   ],
   "source": [
    "# Calculation of percentage change over time.\n",
    "# Methodology:\n",
    "# 1. Calculate % change by year and by state.\n",
    "# 2. Sum all % changes over time.\n",
    "# 3. Show top positive and negative % changes by state.\n",
    "\n",
    "def _get_diffence_by_state(df, state):\n",
    "    tmp = data.loc[df['state'] == state, ['yield_per_colony', 'year']]\n",
    "    tmp['rolling_diff'] = (tmp['yield_per_colony']\n",
    "                           .rolling(window=2)\n",
    "                           .apply(lambda x: ((x[1] - x[0]) / x[1]) * 100, raw=True))\n",
    "    return tmp['rolling_diff'].sum()\n",
    "\n",
    "list_of_states = list(data['state'].value_counts().index)\n",
    "diffence_by_state = []\n",
    "for state in list_of_states:\n",
    "    tmp = (state, _get_diffence_by_state(data, state))\n",
    "    diffence_by_state.append(tmp)\n",
    "    \n",
    "pd.DataFrame(diffence_by_state, columns=['state', 'yield_change']).sort_values(by='yield_change')"
   ]
  },
  {
   "cell_type": "code",
   "execution_count": 131,
   "metadata": {},
   "outputs": [
    {
     "data": {
      "image/png": "[encoded data removed]",
      "text/plain": [
       "<Figure size 720x216 with 1 Axes>"
      ]
     },
     "metadata": {},
     "output_type": "display_data"
    }
   ],
   "source": [
    "show_yield_trend(data, 'CA')"
   ]
  },
  {
   "cell_type": "code",
   "execution_count": 133,
   "metadata": {},
   "outputs": [
    {
     "data": {
      "image/png": "[encoded data removed]",
      "text/plain": [
       "<Figure size 720x216 with 1 Axes>"
      ]
     },
     "metadata": {},
     "output_type": "display_data"
    }
   ],
   "source": [
    "show_yield_trend(data, 'MS')"
   ]
  },
  {
   "cell_type": "markdown",
   "metadata": {},
   "source": [
    "# Auxilary data analysis"
   ]
  },
  {
   "cell_type": "code",
   "execution_count": 4,
   "metadata": {},
   "outputs": [],
   "source": [
    "analysis = data_raw.copy()"
   ]
  },
  {
   "cell_type": "code",
   "execution_count": 5,
   "metadata": {},
   "outputs": [
    {
     "data": {
      "text/plain": [
       "[<matplotlib.lines.Line2D at 0x1a1cde1588>]"
      ]
     },
     "execution_count": 5,
     "metadata": {},
     "output_type": "execute_result"
    },
    {
     "data": {
      "image/png": "[encoded data removed]",
      "text/plain": [
       "<Figure size 432x288 with 1 Axes>"
      ]
     },
     "metadata": {},
     "output_type": "display_data"
    }
   ],
   "source": [
    "total_production = analysis[['year', 'prodvalue']].groupby('year').agg('sum')\n",
    "total_production.index = [str(x) + '-01-01' for x in list(total_production.index)]\n",
    "total_production.index = pd.to_datetime(total_production.index)\n",
    "plt.plot(total_production)"
   ]
  },
  {
   "cell_type": "code",
   "execution_count": 19,
   "metadata": {},
   "outputs": [
    {
     "data": {
      "image/png": "[encoded data removed]",
      "text/plain": [
       "<Figure size 432x288 with 4 Axes>"
      ]
     },
     "metadata": {},
     "output_type": "display_data"
    }
   ],
   "source": [
    "from plotly.plotly import plot_mpl\n",
    "from statsmodels.tsa.seasonal import seasonal_decompose\n",
    "result = seasonal_decompose(total_production, model='multiplicative')\n",
    "result.plot()\n",
    "plt.show()\n",
    "# We have no seasonality in our time serires."
   ]
  },
  {
   "cell_type": "code",
   "execution_count": null,
   "metadata": {},
   "outputs": [],
   "source": []
  },
  {
   "cell_type": "code",
   "execution_count": null,
   "metadata": {},
   "outputs": [],
   "source": []
  },
  {
   "cell_type": "code",
   "execution_count": null,
   "metadata": {},
   "outputs": [],
   "source": []
  }
 ],
 "metadata": {
  "kernelspec": {
   "display_name": "Python 3",
   "language": "python",
   "name": "python3"
  },
  "language_info": {
   "codemirror_mode": {
    "name": "ipython",
    "version": 3
   },
   "file_extension": ".py",
   "mimetype": "text/x-python",
   "name": "python",
   "nbconvert_exporter": "python",
   "pygments_lexer": "ipython3",
   "version": "3.6.6"
  }
 },
 "nbformat": 4,
 "nbformat_minor": 2
}
