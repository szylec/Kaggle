{
 "cells": [
  {
   "cell_type": "code",
   "execution_count": 2,
   "metadata": {},
   "outputs": [],
   "source": [
    "# 1. From which countries maximum budget projects are coming?\n",
    "# 2. Top countries with maximum job posting?\n",
    "# 3. What are the skill sets required by the different recruiters?\n",
    "# 4. How skills have changed with time?\n",
    "# 5. Top skills required?\n",
    "%reset"
   ]
  },
  {
   "cell_type": "code",
   "execution_count": 4,
   "metadata": {},
   "outputs": [],
   "source": [
    "import numpy as np\n",
    "import pandas as pd\n",
    "\n",
    "import matplotlib.pyplot as plt\n",
    "import seaborn as sns\n",
    "%matplotlib inline"
   ]
  },
  {
   "cell_type": "code",
   "execution_count": 20,
   "metadata": {},
   "outputs": [],
   "source": [
    "data_raw = pd.read_csv('Clean_UpWork.csv')"
   ]
  },
  {
   "cell_type": "code",
   "execution_count": 79,
   "metadata": {},
   "outputs": [
    {
     "data": {
      "text/html": [
       "<div>\n",
       "<style scoped>\n",
       "    .dataframe tbody tr th:only-of-type {\n",
       "        vertical-align: middle;\n",
       "    }\n",
       "\n",
       "    .dataframe tbody tr th {\n",
       "        vertical-align: top;\n",
       "    }\n",
       "\n",
       "    .dataframe thead th {\n",
       "        text-align: right;\n",
       "    }\n",
       "</style>\n",
       "<table border=\"1\" class=\"dataframe\">\n",
       "  <thead>\n",
       "    <tr style=\"text-align: right;\">\n",
       "      <th></th>\n",
       "      <th>id</th>\n",
       "      <th>Title</th>\n",
       "      <th>Snippet</th>\n",
       "      <th>Category</th>\n",
       "      <th>Subcategory</th>\n",
       "      <th>Skills</th>\n",
       "      <th>Job_type</th>\n",
       "      <th>Budget</th>\n",
       "      <th>Country</th>\n",
       "      <th>URL</th>\n",
       "      <th>Month_year</th>\n",
       "    </tr>\n",
       "  </thead>\n",
       "  <tbody>\n",
       "    <tr>\n",
       "      <th>0</th>\n",
       "      <td>1</td>\n",
       "      <td>Telegram Bot Development</td>\n",
       "      <td>Looking for Expert who has good experience in ...</td>\n",
       "      <td>Web, Mobile &amp; Software Dev</td>\n",
       "      <td>Web Development</td>\n",
       "      <td>node.js,python</td>\n",
       "      <td>Hourly</td>\n",
       "      <td>0.0</td>\n",
       "      <td>United States</td>\n",
       "      <td>http://www.upwork.com/jobs/~01189589ffdd85cac9</td>\n",
       "      <td>2018-04</td>\n",
       "    </tr>\n",
       "    <tr>\n",
       "      <th>1</th>\n",
       "      <td>2</td>\n",
       "      <td>HUGO developer</td>\n",
       "      <td>We are looking for someone to help us convert ...</td>\n",
       "      <td>Web, Mobile &amp; Software Dev</td>\n",
       "      <td>Web Development</td>\n",
       "      <td>css3,html5,hugo</td>\n",
       "      <td>Hourly</td>\n",
       "      <td>0.0</td>\n",
       "      <td>Canada</td>\n",
       "      <td>http://www.upwork.com/jobs/~018a9c5f1984279979</td>\n",
       "      <td>2018-04</td>\n",
       "    </tr>\n",
       "    <tr>\n",
       "      <th>2</th>\n",
       "      <td>3</td>\n",
       "      <td>Professional WordPress Programmer</td>\n",
       "      <td>Will discuss the project details once you are ...</td>\n",
       "      <td>Web, Mobile &amp; Software Dev</td>\n",
       "      <td>Web Development</td>\n",
       "      <td>wordpress</td>\n",
       "      <td>Fixed</td>\n",
       "      <td>50.0</td>\n",
       "      <td>Philippines</td>\n",
       "      <td>http://www.upwork.com/jobs/~018af8d4b27958c0a3</td>\n",
       "      <td>2018-04</td>\n",
       "    </tr>\n",
       "    <tr>\n",
       "      <th>3</th>\n",
       "      <td>4</td>\n",
       "      <td>Simple one page application to visualise a D3....</td>\n",
       "      <td>This project has a limited budget but may suit...</td>\n",
       "      <td>Web, Mobile &amp; Software Dev</td>\n",
       "      <td>Web Development</td>\n",
       "      <td>c#,d3.js,javascript</td>\n",
       "      <td>Fixed</td>\n",
       "      <td>50.0</td>\n",
       "      <td>United Kingdom</td>\n",
       "      <td>http://www.upwork.com/jobs/~015fb1bdfdef3a7560</td>\n",
       "      <td>2018-04</td>\n",
       "    </tr>\n",
       "    <tr>\n",
       "      <th>4</th>\n",
       "      <td>5</td>\n",
       "      <td>Modification to Blueprint shader in UE4</td>\n",
       "      <td>I'm working with a UE4 asset, Water Planes, av...</td>\n",
       "      <td>Web, Mobile &amp; Software Dev</td>\n",
       "      <td>Desktop Software Development</td>\n",
       "      <td>3ds-max,c++,unreal-development-kit,unrealscript</td>\n",
       "      <td>Hourly</td>\n",
       "      <td>0.0</td>\n",
       "      <td>NaN</td>\n",
       "      <td>http://www.upwork.com/jobs/~01dfddc43c58a49614</td>\n",
       "      <td>2018-04</td>\n",
       "    </tr>\n",
       "  </tbody>\n",
       "</table>\n",
       "</div>"
      ],
      "text/plain": [
       "   id                                              Title  \\\n",
       "0   1                           Telegram Bot Development   \n",
       "1   2                                     HUGO developer   \n",
       "2   3                  Professional WordPress Programmer   \n",
       "3   4  Simple one page application to visualise a D3....   \n",
       "4   5            Modification to Blueprint shader in UE4   \n",
       "\n",
       "                                             Snippet  \\\n",
       "0  Looking for Expert who has good experience in ...   \n",
       "1  We are looking for someone to help us convert ...   \n",
       "2  Will discuss the project details once you are ...   \n",
       "3  This project has a limited budget but may suit...   \n",
       "4  I'm working with a UE4 asset, Water Planes, av...   \n",
       "\n",
       "                     Category                   Subcategory  \\\n",
       "0  Web, Mobile & Software Dev               Web Development   \n",
       "1  Web, Mobile & Software Dev               Web Development   \n",
       "2  Web, Mobile & Software Dev               Web Development   \n",
       "3  Web, Mobile & Software Dev               Web Development   \n",
       "4  Web, Mobile & Software Dev  Desktop Software Development   \n",
       "\n",
       "                                            Skills Job_type  Budget  \\\n",
       "0                                   node.js,python   Hourly     0.0   \n",
       "1                                  css3,html5,hugo   Hourly     0.0   \n",
       "2                                        wordpress    Fixed    50.0   \n",
       "3                              c#,d3.js,javascript    Fixed    50.0   \n",
       "4  3ds-max,c++,unreal-development-kit,unrealscript   Hourly     0.0   \n",
       "\n",
       "          Country                                             URL Month_year  \n",
       "0   United States  http://www.upwork.com/jobs/~01189589ffdd85cac9    2018-04  \n",
       "1          Canada  http://www.upwork.com/jobs/~018a9c5f1984279979    2018-04  \n",
       "2     Philippines  http://www.upwork.com/jobs/~018af8d4b27958c0a3    2018-04  \n",
       "3  United Kingdom  http://www.upwork.com/jobs/~015fb1bdfdef3a7560    2018-04  \n",
       "4             NaN  http://www.upwork.com/jobs/~01dfddc43c58a49614    2018-04  "
      ]
     },
     "execution_count": 79,
     "metadata": {},
     "output_type": "execute_result"
    }
   ],
   "source": [
    "def transformation(df):\n",
    "    result = df.rename(columns={\n",
    "        'Unnamed: 0': 'id',\n",
    "        'Category2': 'Category',\n",
    "        'Subcategory2': 'Subcategory',\n",
    "        'Job.Type': 'Job_type',\n",
    "        'Month_Yr': 'Month_year',\n",
    "    })\n",
    "    result.drop('JobID', axis=1, inplace=True)\n",
    "    return result\n",
    "\n",
    "data = transformation(data_raw)\n",
    "data.head()"
   ]
  },
  {
   "cell_type": "markdown",
   "metadata": {},
   "source": [
    "### From which countries maximum budget projects are coming?"
   ]
  },
  {
   "cell_type": "code",
   "execution_count": 54,
   "metadata": {},
   "outputs": [
    {
     "data": {
      "text/plain": [
       "(23516,)"
      ]
     },
     "execution_count": 54,
     "metadata": {},
     "output_type": "execute_result"
    }
   ],
   "source": [
    "# How many project we have?\n",
    "data['id'].value_counts().shape  # 23516\n",
    "data['JobID'].value_counts().shape  # 23516 --> JobID and id convey same information, JobID can be dropped\n",
    "# We have 23516 of projects"
   ]
  },
  {
   "cell_type": "code",
   "execution_count": 71,
   "metadata": {},
   "outputs": [
    {
     "name": "stdout",
     "output_type": "stream",
     "text": [
      "0.0       10892\n",
      "100.0      1294\n",
      "500.0      1014\n",
      "50.0        919\n",
      "200.0       821\n",
      "1000.0      740\n",
      "300.0       610\n",
      "5.0         546\n",
      "150.0       516\n",
      "20.0        415\n",
      "Name: Budget, dtype: int64\n",
      "\n",
      "99 percentile: 10.0\n"
     ]
    }
   ],
   "source": [
    "# What is distribution of the budget?\n",
    "print(data['Budget'].value_counts().head(10))\n",
    "print('\\n99 percentile: {}'.format(np.percentile(data['Budget'], 50)))"
   ]
  },
  {
   "cell_type": "code",
   "execution_count": 84,
   "metadata": {},
   "outputs": [
    {
     "data": {
      "text/html": [
       "<div>\n",
       "<style scoped>\n",
       "    .dataframe tbody tr th:only-of-type {\n",
       "        vertical-align: middle;\n",
       "    }\n",
       "\n",
       "    .dataframe tbody tr th {\n",
       "        vertical-align: top;\n",
       "    }\n",
       "\n",
       "    .dataframe thead th {\n",
       "        text-align: right;\n",
       "    }\n",
       "</style>\n",
       "<table border=\"1\" class=\"dataframe\">\n",
       "  <thead>\n",
       "    <tr style=\"text-align: right;\">\n",
       "      <th></th>\n",
       "      <th>Title</th>\n",
       "      <th>Snippet</th>\n",
       "      <th>Budget</th>\n",
       "    </tr>\n",
       "  </thead>\n",
       "  <tbody>\n",
       "    <tr>\n",
       "      <th>54</th>\n",
       "      <td>Looking for a CTO for a blockchain project</td>\n",
       "      <td>We are a chinese blockchain startup in shangha...</td>\n",
       "      <td>1000000.0</td>\n",
       "    </tr>\n",
       "    <tr>\n",
       "      <th>3478</th>\n",
       "      <td>Cryptocurrency</td>\n",
       "      <td>I am looking for a dev to help create and erc2...</td>\n",
       "      <td>1000000.0</td>\n",
       "    </tr>\n",
       "    <tr>\n",
       "      <th>22590</th>\n",
       "      <td>website design 2017</td>\n",
       "      <td>preferrably someone who can manage a team of d...</td>\n",
       "      <td>1000000.0</td>\n",
       "    </tr>\n",
       "    <tr>\n",
       "      <th>2420</th>\n",
       "      <td>Looking to launch and  ICO and need a programmer</td>\n",
       "      <td>Looking to launch an sercrity based ICO and ne...</td>\n",
       "      <td>1000000.0</td>\n",
       "    </tr>\n",
       "    <tr>\n",
       "      <th>2220</th>\n",
       "      <td>online food ordering complete system</td>\n",
       "      <td>I need an online food ordering system by java....</td>\n",
       "      <td>1000000.0</td>\n",
       "    </tr>\n",
       "    <tr>\n",
       "      <th>6668</th>\n",
       "      <td>Design and Build SharePoint Portal for Law Firm</td>\n",
       "      <td>I am looking for someone to build a SharePoint...</td>\n",
       "      <td>1000000.0</td>\n",
       "    </tr>\n",
       "    <tr>\n",
       "      <th>18477</th>\n",
       "      <td>wordpress site with clean CMS, integrate custo...</td>\n",
       "      <td>Your intro or CL or comment must have a specif...</td>\n",
       "      <td>1000000.0</td>\n",
       "    </tr>\n",
       "    <tr>\n",
       "      <th>2787</th>\n",
       "      <td>Shipstation integration with Seller fulfilled ...</td>\n",
       "      <td>I'm looking for a developer to design an integ...</td>\n",
       "      <td>999999.0</td>\n",
       "    </tr>\n",
       "    <tr>\n",
       "      <th>2107</th>\n",
       "      <td>Web Design for Video Upload</td>\n",
       "      <td>I'm looking to have a website that will be a l...</td>\n",
       "      <td>999999.0</td>\n",
       "    </tr>\n",
       "    <tr>\n",
       "      <th>42</th>\n",
       "      <td>woo commerce store setup assistance needed</td>\n",
       "      <td>Hi, i have a partially built wocommerce store ...</td>\n",
       "      <td>999999.0</td>\n",
       "    </tr>\n",
       "    <tr>\n",
       "      <th>8937</th>\n",
       "      <td>Estimating take off app</td>\n",
       "      <td>Looking for someone to create a take off estim...</td>\n",
       "      <td>999999.0</td>\n",
       "    </tr>\n",
       "    <tr>\n",
       "      <th>20298</th>\n",
       "      <td>Apple IOS developer for new app</td>\n",
       "      <td>Looking for either a freelancer or agency to d...</td>\n",
       "      <td>999999.0</td>\n",
       "    </tr>\n",
       "    <tr>\n",
       "      <th>19340</th>\n",
       "      <td>Create A Wordpress RETS based Real Estate website</td>\n",
       "      <td>I need a Wordpress website that its dynamic da...</td>\n",
       "      <td>999999.0</td>\n",
       "    </tr>\n",
       "    <tr>\n",
       "      <th>4969</th>\n",
       "      <td>Web/Mobile website design</td>\n",
       "      <td>I would like to create a website that looks ve...</td>\n",
       "      <td>999999.0</td>\n",
       "    </tr>\n",
       "    <tr>\n",
       "      <th>14024</th>\n",
       "      <td>Developer for Website and App (equity only)</td>\n",
       "      <td>Only apply if willing to work for equity! \\n\\n...</td>\n",
       "      <td>700000.0</td>\n",
       "    </tr>\n",
       "    <tr>\n",
       "      <th>8925</th>\n",
       "      <td>API request JavaScript code</td>\n",
       "      <td>Budget is a placeholder.\\n\\nI have a page with...</td>\n",
       "      <td>250000.0</td>\n",
       "    </tr>\n",
       "    <tr>\n",
       "      <th>5252</th>\n",
       "      <td>App Developers needed</td>\n",
       "      <td>I have to nda the individual first\\n\\nThis job...</td>\n",
       "      <td>200000.0</td>\n",
       "    </tr>\n",
       "    <tr>\n",
       "      <th>883</th>\n",
       "      <td>Computer Vision</td>\n",
       "      <td>Building go-live solution to meet our business...</td>\n",
       "      <td>200000.0</td>\n",
       "    </tr>\n",
       "    <tr>\n",
       "      <th>19968</th>\n",
       "      <td>Senior coder</td>\n",
       "      <td>Looking for an experienced coder who can help ...</td>\n",
       "      <td>200000.0</td>\n",
       "    </tr>\n",
       "    <tr>\n",
       "      <th>22194</th>\n",
       "      <td>Postmark Transactional Email Script</td>\n",
       "      <td>I have a trqnsactioal email account with Postm...</td>\n",
       "      <td>199100.0</td>\n",
       "    </tr>\n",
       "  </tbody>\n",
       "</table>\n",
       "</div>"
      ],
      "text/plain": [
       "                                                   Title  \\\n",
       "54            Looking for a CTO for a blockchain project   \n",
       "3478                                      Cryptocurrency   \n",
       "22590                                website design 2017   \n",
       "2420    Looking to launch and  ICO and need a programmer   \n",
       "2220                online food ordering complete system   \n",
       "6668     Design and Build SharePoint Portal for Law Firm   \n",
       "18477  wordpress site with clean CMS, integrate custo...   \n",
       "2787   Shipstation integration with Seller fulfilled ...   \n",
       "2107                         Web Design for Video Upload   \n",
       "42            woo commerce store setup assistance needed   \n",
       "8937                             Estimating take off app   \n",
       "20298                    Apple IOS developer for new app   \n",
       "19340  Create A Wordpress RETS based Real Estate website   \n",
       "4969                           Web/Mobile website design   \n",
       "14024        Developer for Website and App (equity only)   \n",
       "8925                         API request JavaScript code   \n",
       "5252                               App Developers needed   \n",
       "883                                      Computer Vision   \n",
       "19968                                       Senior coder   \n",
       "22194                Postmark Transactional Email Script   \n",
       "\n",
       "                                                 Snippet     Budget  \n",
       "54     We are a chinese blockchain startup in shangha...  1000000.0  \n",
       "3478   I am looking for a dev to help create and erc2...  1000000.0  \n",
       "22590  preferrably someone who can manage a team of d...  1000000.0  \n",
       "2420   Looking to launch an sercrity based ICO and ne...  1000000.0  \n",
       "2220   I need an online food ordering system by java....  1000000.0  \n",
       "6668   I am looking for someone to build a SharePoint...  1000000.0  \n",
       "18477  Your intro or CL or comment must have a specif...  1000000.0  \n",
       "2787   I'm looking for a developer to design an integ...   999999.0  \n",
       "2107   I'm looking to have a website that will be a l...   999999.0  \n",
       "42     Hi, i have a partially built wocommerce store ...   999999.0  \n",
       "8937   Looking for someone to create a take off estim...   999999.0  \n",
       "20298  Looking for either a freelancer or agency to d...   999999.0  \n",
       "19340  I need a Wordpress website that its dynamic da...   999999.0  \n",
       "4969   I would like to create a website that looks ve...   999999.0  \n",
       "14024  Only apply if willing to work for equity! \\n\\n...   700000.0  \n",
       "8925   Budget is a placeholder.\\n\\nI have a page with...   250000.0  \n",
       "5252   I have to nda the individual first\\n\\nThis job...   200000.0  \n",
       "883    Building go-live solution to meet our business...   200000.0  \n",
       "19968  Looking for an experienced coder who can help ...   200000.0  \n",
       "22194  I have a trqnsactioal email account with Postm...   199100.0  "
      ]
     },
     "execution_count": 84,
     "metadata": {},
     "output_type": "execute_result"
    }
   ],
   "source": [
    "# Take a look for maximum Budget projects...\n",
    "data.sort_values(by='Budget', ascending=False).head(20)[['Title', 'Snippet', 'Budget']]  # Lools like real offers."
   ]
  },
  {
   "cell_type": "code",
   "execution_count": 97,
   "metadata": {},
   "outputs": [
    {
     "name": "stderr",
     "output_type": "stream",
     "text": [
      "/Users/slechwar/miniconda3/lib/python3.6/site-packages/matplotlib/axes/_axes.py:6462: UserWarning: The 'normed' kwarg is deprecated, and has been replaced by the 'density' kwarg.\n",
      "  warnings.warn(\"The 'normed' kwarg is deprecated, and has been \"\n"
     ]
    },
    {
     "data": {
      "text/plain": [
       "<matplotlib.axes._subplots.AxesSubplot at 0x1a26c34048>"
      ]
     },
     "execution_count": 97,
     "metadata": {},
     "output_type": "execute_result"
    },
    {
     "data": {
      "image/png": "[encoded data removed]",
      "text/plain": [
       "<Figure size 1080x360 with 1 Axes>"
      ]
     },
     "metadata": {},
     "output_type": "display_data"
    }
   ],
   "source": [
    "# Let's analyze above 10 000\n",
    "plt.figure(figsize=(15,5))\n",
    "sns.distplot(data.loc[data['Budget'] > 10000, 'Budget'], bins=10)\n",
    "# We can easily say that looking at project above 500 000 is reasonable in this case."
   ]
  },
  {
   "cell_type": "code",
   "execution_count": 124,
   "metadata": {},
   "outputs": [
    {
     "data": {
      "text/plain": [
       "<matplotlib.axes._subplots.AxesSubplot at 0x1a27559e80>"
      ]
     },
     "execution_count": 124,
     "metadata": {},
     "output_type": "execute_result"
    },
    {
     "data": {
      "image/png": "[encoded data removed]",
      "text/plain": [
       "<Figure size 1080x360 with 1 Axes>"
      ]
     },
     "metadata": {},
     "output_type": "display_data"
    }
   ],
   "source": [
    "data_grouped_by_country = data.loc[data['Budget'] > 500000, ['Country', 'Budget']].groupby('Country').agg('count').reset_index()\n",
    "data_grouped_by_country.rename(columns={'Budget': 'No_high_budget_projects'}, inplace=True)\n",
    "data_grouped_by_country.sort_values(by='No_high_budget_projects', ascending=False, inplace=True)\n",
    "plt.figure(figsize=(15,5))\n",
    "sns.barplot(x='Country', y='No_high_budget_projects', data=data_grouped_by_country)"
   ]
  },
  {
   "cell_type": "markdown",
   "metadata": {},
   "source": [
    "### Top countries with maximum job posting?"
   ]
  },
  {
   "cell_type": "code",
   "execution_count": null,
   "metadata": {},
   "outputs": [],
   "source": []
  }
 ],
 "metadata": {
  "kernelspec": {
   "display_name": "Python 3",
   "language": "python",
   "name": "python3"
  },
  "language_info": {
   "codemirror_mode": {
    "name": "ipython",
    "version": 3
   },
   "file_extension": ".py",
   "mimetype": "text/x-python",
   "name": "python",
   "nbconvert_exporter": "python",
   "pygments_lexer": "ipython3",
   "version": "3.6.5"
  }
 },
 "nbformat": 4,
 "nbformat_minor": 2
}
