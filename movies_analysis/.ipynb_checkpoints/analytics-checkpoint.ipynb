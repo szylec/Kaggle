{
 "cells": [
  {
   "cell_type": "code",
   "execution_count": 94,
   "metadata": {},
   "outputs": [],
   "source": [
    "'''\n",
    "Is the movie industry dying? is Netflix the new entertainment king? \n",
    "Those were the first questions that lead me to create a dataset focused on movie revenue and analyze it over the last decades. \n",
    "But, why stop there? There are more factors that intervene in this kind of thing, like actors, genres, user ratings and more. \n",
    "And now, anyone with experience (you) can ask specific questions about the movie industry, and get answers.\n",
    "'''\n",
    "%reset"
   ]
  },
  {
   "cell_type": "code",
   "execution_count": 95,
   "metadata": {},
   "outputs": [],
   "source": [
    "import numpy as np\n",
    "import pandas as pd\n",
    "\n",
    "import matplotlib.pyplot as plt\n",
    "import seaborn as sns\n",
    "%matplotlib inline\n",
    "\n",
    "from sklearn.ensemble import ExtraTreesRegressor, ExtraTreesClassifier\n",
    "from sklearn.model_selection import train_test_split\n",
    "\n",
    "import warnings\n",
    "warnings.filterwarnings(action='once')"
   ]
  },
  {
   "cell_type": "code",
   "execution_count": 96,
   "metadata": {},
   "outputs": [
    {
     "name": "stdout",
     "output_type": "stream",
     "text": [
      "<class 'pandas.core.frame.DataFrame'>\n",
      "RangeIndex: 6820 entries, 0 to 6819\n",
      "Data columns (total 15 columns):\n",
      "budget      6820 non-null float64\n",
      "company     6820 non-null object\n",
      "country     6820 non-null object\n",
      "director    6820 non-null object\n",
      "genre       6820 non-null object\n",
      "gross       6820 non-null float64\n",
      "name        6820 non-null object\n",
      "rating      6820 non-null object\n",
      "released    6820 non-null object\n",
      "runtime     6820 non-null int64\n",
      "score       6820 non-null float64\n",
      "star        6820 non-null object\n",
      "votes       6820 non-null int64\n",
      "writer      6820 non-null object\n",
      "year        6820 non-null int64\n",
      "dtypes: float64(3), int64(3), object(9)\n",
      "memory usage: 799.3+ KB\n"
     ]
    }
   ],
   "source": [
    "data_raw = pd.read_csv('movies_fixed.csv')\n",
    "data_raw.info()"
   ]
  },
  {
   "cell_type": "markdown",
   "metadata": {},
   "source": [
    "### Data preprocessing"
   ]
  },
  {
   "cell_type": "code",
   "execution_count": 97,
   "metadata": {},
   "outputs": [],
   "source": [
    "def get_column_types(df):\n",
    "    quantitative = list(df._get_numeric_data().columns)\n",
    "    qualitative = [c for c in list(df.columns) if c not in quantitative]\n",
    "    return qualitative, quantitative\n",
    "\n",
    "def data_preparation_for_model(df, qualitative, target):\n",
    "    result = df.copy()\n",
    "    to_drop = [target, 'name', 'released', 'votes']\n",
    "    for_one_hot_encoding = [i for i in qualitative if i not in to_drop]\n",
    "    result.drop(to_drop, axis=1, inplace=True)\n",
    "    result = pd.get_dummies(data=result, columns=for_one_hot_encoding)\n",
    "    result[target] = df[target]  # Return back target variable.\n",
    "    return result\n",
    "\n",
    "def feature_selection_for_model(df, objective, target, top_features=None):\n",
    "    X = df.drop(target, axis=1).copy()\n",
    "    y = df[target].copy()\n",
    "    \n",
    "    if objective == 'regression':\n",
    "        estimator = ExtraTreesRegressor()\n",
    "    elif objective == 'classification':\n",
    "        estimator = ExtraTreesClassifier()\n",
    "        \n",
    "    estimator = estimator.fit(X, y)\n",
    "    model = SelectFromModel(estimator, prefit=True)\n",
    "    no_important_features = model.transform(X).shape[1]\n",
    "    \n",
    "    if top_features:\n",
    "        to_features_to_pass = top_features\n",
    "    else:\n",
    "        to_features_to_pass = no_important_features\n",
    "        \n",
    "    important_features =pd.DataFrame({\n",
    "        'feature': list(X.columns),\n",
    "        'feature_importance': list(estimator.feature_importances_)\n",
    "    }).sort_values(by='feature_importance', ascending=False).head(to_features_to_pass)\n",
    "    return list(important_features['feature'])\n",
    "\n",
    "def prepare_data_sets_for_model(df, important_features, target):\n",
    "    train = df[important_features].copy()\n",
    "    train[target] = df[target].copy()\n",
    "\n",
    "    y = train[target]\n",
    "    X = train.drop(target, axis=1)\n",
    "    X_train, X_eval, y_train, y_eval = train_test_split(X, y, test_size=0.2, random_state=12)\n",
    "    return X_train, X_eval, y_train, y_eval\n",
    "\n",
    "qualitative, quantitative = get_column_types(data_raw)"
   ]
  },
  {
   "cell_type": "markdown",
   "metadata": {},
   "source": [
    "#### Prepare regression to fill 0.0 'budget'"
   ]
  },
  {
   "cell_type": "code",
   "execution_count": 98,
   "metadata": {},
   "outputs": [
    {
     "name": "stdout",
     "output_type": "stream",
     "text": [
      "MSE: 741683647321496.1\n",
      "R2: 0.5488521097385093\n",
      "CPU times: user 19.4 s, sys: 692 ms, total: 20.1 s\n",
      "Wall time: 18.6 s\n"
     ]
    },
    {
     "data": {
      "image/png": "[encoded data removed]",
      "text/plain": [
       "<Figure size 1080x360 with 1 Axes>"
      ]
     },
     "metadata": {},
     "output_type": "display_data"
    }
   ],
   "source": [
    "%%time\n",
    "from sklearn.preprocessing import minmax_scale\n",
    "from sklearn.feature_selection import SelectFromModel\n",
    "from sklearn.linear_model import ElasticNet\n",
    "from sklearn.metrics import mean_squared_error, r2_score\n",
    "TARGET_BUDGET = 'budget'\n",
    "\n",
    "# Model preparation.\n",
    "def prepare_model_for_budget(df, important_features, target):\n",
    "    X_train, X_eval, y_train, y_eval = prepare_data_sets_for_model(\n",
    "        df, important_features, target)\n",
    "    \n",
    "    # Training.\n",
    "    regressor = ElasticNet()\n",
    "    regressor.fit(X_train, y_train)\n",
    "    \n",
    "    # Evaluation.\n",
    "    prediction = regressor.predict(X_eval)\n",
    "    print('MSE: {}'.format(mean_squared_error(y_eval, prediction)))\n",
    "    print('R2: {}'.format(r2_score(y_eval, prediction)))\n",
    "    \n",
    "    plt.figure(figsize=(15,5))\n",
    "    plt.scatter(prediction, y_eval - prediction)\n",
    "    return regressor\n",
    "\n",
    "# Fill function.\n",
    "def fill_empty_budget(df, qualitative, target, important_features_for_budget,\n",
    "                      model_for_budget, scale_min, scale_max):\n",
    "    result = df.copy()\n",
    "    index_to_predict = list(df[df[target] == 0.0].index)\n",
    "    df = data_preparation_for_model(df, qualitative, target)\n",
    "    df = df[important_features_for_budget]\n",
    "    prediction = pd.Series(data=model_for_budget.predict(df.loc[index_to_predict, :]), index=index_to_predict)\n",
    "    # Prediction result scaling (min-max scaler).\n",
    "    prediction = pd.Series(data=minmax_scale(prediction, feature_range=(scale_min, scale_max)), index=index_to_predict)\n",
    "    result.loc[index_to_predict, target] = prediction.apply(lambda x: float(int(x)))\n",
    "    return result\n",
    "\n",
    "train_raw_for_budget = data_preparation_for_model(data_raw, qualitative, TARGET_BUDGET)\n",
    "# Skip rows that will be filled.\n",
    "train_raw_for_budget = train_raw_for_budget[train_raw_for_budget[TARGET_BUDGET] != 0.0]\n",
    "important_features_for_budget = feature_selection_for_model(\n",
    "    df=train_raw_for_budget,\n",
    "    objective='regression',\n",
    "    target=TARGET_BUDGET)\n",
    "model_for_budget = prepare_model_for_budget(train_raw_for_budget, important_features_for_budget, TARGET_BUDGET)"
   ]
  },
  {
   "cell_type": "markdown",
   "metadata": {},
   "source": [
    "#### Prepare classification to fill 'rating'"
   ]
  },
  {
   "cell_type": "code",
   "execution_count": 99,
   "metadata": {},
   "outputs": [
    {
     "name": "stdout",
     "output_type": "stream",
     "text": [
      "Accuracy score: 64.31%\n",
      "\n",
      "Confusion matrix:\n",
      "[[  0   0   0   0   0   1]\n",
      " [  0  15   0  12   2   1]\n",
      " [  0   0   0   0   0   3]\n",
      " [  0   5   0  74  61  68]\n",
      " [  0   0   0  17 188 180]\n",
      " [  0   1   0  10 104 561]]\n",
      "\n",
      "Classification Report:\n",
      "             precision    recall  f1-score   support\n",
      "\n",
      "        B15       0.00      0.00      0.00         1\n",
      "          G       0.71      0.50      0.59        30\n",
      "      NC-17       0.00      0.00      0.00         3\n",
      "         PG       0.65      0.36      0.46       208\n",
      "      PG-13       0.53      0.49      0.51       385\n",
      "          R       0.69      0.83      0.75       676\n",
      "\n",
      "avg / total       0.64      0.64      0.63      1303\n",
      "\n",
      "CPU times: user 25.1 s, sys: 972 ms, total: 26.1 s\n",
      "Wall time: 12.3 s\n"
     ]
    },
    {
     "name": "stderr",
     "output_type": "stream",
     "text": [
      "/Users/slechwar/miniconda3/lib/python3.6/site-packages/sklearn/metrics/classification.py:1135: UndefinedMetricWarning: Precision and F-score are ill-defined and being set to 0.0 in labels with no predicted samples.\n",
      "  'precision', 'predicted', average, warn_for)\n"
     ]
    }
   ],
   "source": [
    "%%time\n",
    "from sklearn.ensemble import GradientBoostingClassifier\n",
    "from sklearn.metrics import accuracy_score, confusion_matrix, classification_report\n",
    "TARGET_RATING = 'rating'\n",
    "rating_to_skip = ['NOT RATED', 'UNRATED', 'Not specified']\n",
    "\n",
    "def prepare_model_for_rating(df, important_features, target):\n",
    "    X_train, X_eval, y_train, y_eval = prepare_data_sets_for_model(\n",
    "    df, important_features, target)\n",
    "\n",
    "    # Training.\n",
    "    classifier = GradientBoostingClassifier()\n",
    "    classifier.fit(X_train, y_train)\n",
    "    \n",
    "    # Evaluation.\n",
    "    prediction = classifier.predict(X_eval)\n",
    "    accuracy = round(accuracy_score(y_eval, prediction), 4)\n",
    "    print('Accuracy score: {}%'.format(accuracy*100))\n",
    "    print('\\nConfusion matrix:')\n",
    "    print(confusion_matrix(y_eval, prediction))\n",
    "    print('\\nClassification Report:')\n",
    "    print(classification_report(y_eval, prediction))\n",
    "    return classifier\n",
    "\n",
    "def fill_empty_rating(df, qualitative, target, important_features_for_rating,\n",
    "                      model_for_rating, rating_to_skip):\n",
    "    result = df.copy()\n",
    "    index_to_predict = list(df[df[target].isin(rating_to_skip)].index)\n",
    "    df = data_preparation_for_model(df, qualitative, target).copy()\n",
    "    df = df[important_features_for_rating]\n",
    "    prediction = pd.Series(data=model_for_rating.predict(df.loc[index_to_predict, :]), index=index_to_predict)\n",
    "    result.loc[index_to_predict, target] = prediction\n",
    "    return result\n",
    "\n",
    "tain_raw_for_rating = data_preparation_for_model(data_raw, qualitative, TARGET_RATING)\n",
    "# Skip rows that will be filled.\n",
    "tain_raw_for_rating = tain_raw_for_rating[~tain_raw_for_rating['rating'].isin(rating_to_skip)]\n",
    "important_features_for_rating = feature_selection_for_model(\n",
    "    df=tain_raw_for_rating,\n",
    "    objective='classification',\n",
    "    target=TARGET_RATING,\n",
    "    top_features=80)\n",
    "model_for_rating = prepare_model_for_rating(\n",
    "    df=tain_raw_for_rating,\n",
    "    important_features=important_features_for_rating,\n",
    "    target=TARGET_RATING)"
   ]
  },
  {
   "cell_type": "code",
   "execution_count": null,
   "metadata": {},
   "outputs": [],
   "source": []
  },
  {
   "cell_type": "code",
   "execution_count": null,
   "metadata": {},
   "outputs": [],
   "source": []
  },
  {
   "cell_type": "markdown",
   "metadata": {},
   "source": [
    "### Transform raw data set"
   ]
  },
  {
   "cell_type": "code",
   "execution_count": 103,
   "metadata": {},
   "outputs": [
    {
     "name": "stdout",
     "output_type": "stream",
     "text": [
      "CPU times: user 2.01 s, sys: 307 ms, total: 2.31 s\n",
      "Wall time: 1.06 s\n"
     ]
    }
   ],
   "source": [
    "%%time\n",
    "def data_raw_transformation(data_raw):\n",
    "    qualitative, quantitative = get_column_types(data_raw)\n",
    "    result = data_raw.copy()\n",
    "    \n",
    "    # Use regression to fill 0.0's in budget.\n",
    "    budget_scale_min = data_raw.loc[data_raw['budget'] != 0.0, 'budget'].min()\n",
    "    budget_scale_max = data_raw.loc[data_raw['budget'] != 0.0, 'budget'].max()\n",
    "    result = fill_empty_budget(\n",
    "        df=result, \n",
    "        qualitative=qualitative, \n",
    "        target='budget', \n",
    "        important_features_for_budget=important_features_for_budget,\n",
    "        model_for_budget=model_for_budget, \n",
    "        scale_min=budget_scale_min, \n",
    "        scale_max=budget_scale_max)\n",
    "    \n",
    "    # Use classification to fill \"rating\".\n",
    "    rating_to_skip = ['NOT RATED', 'UNRATED', 'Not specified']\n",
    "    result = fill_empty_rating(\n",
    "        df=result,\n",
    "        qualitative=qualitative,\n",
    "        target='rating',\n",
    "        important_features_for_rating=important_features_for_rating,\n",
    "        model_for_rating=model_for_rating,\n",
    "        rating_to_skip=rating_to_skip)\n",
    "    \n",
    "    # Ceate bucket'ize version of budget.\n",
    "#     result['budget_bin'] = pd.qcut(\n",
    "#         x=result['budget'], q=5, labels=['low', 'medium', 'high', 'extreme'], duplicates='drop')\n",
    "    # Create bucket'ize version of gross.\n",
    "#     result['gross_bin'] = pd.qcut(\n",
    "#         x=result['gross'], q=4, labels=['low', 'medium', 'high', 'extreme'], duplicates='drop')    \n",
    "    # Create bucket'ize version of votes.\n",
    "#     result['votes_bin'] = pd.qcut(\n",
    "#         x=result['votes'], q=4, labels=['few', 'some', 'many', 'a lot of'], duplicates='drop')        \n",
    "    # Create bucket'ize version of runtime.\n",
    "    # Create bucket'ize version of released (spring, summer, autumn, winter).\n",
    "    \n",
    "    \n",
    "    return result\n",
    "\n",
    "data = data_raw_transformation(data_raw)"
   ]
  },
  {
   "cell_type": "code",
   "execution_count": 106,
   "metadata": {},
   "outputs": [
    {
     "data": {
      "text/html": [
       "<div>\n",
       "<style scoped>\n",
       "    .dataframe tbody tr th:only-of-type {\n",
       "        vertical-align: middle;\n",
       "    }\n",
       "\n",
       "    .dataframe tbody tr th {\n",
       "        vertical-align: top;\n",
       "    }\n",
       "\n",
       "    .dataframe thead th {\n",
       "        text-align: right;\n",
       "    }\n",
       "</style>\n",
       "<table border=\"1\" class=\"dataframe\">\n",
       "  <thead>\n",
       "    <tr style=\"text-align: right;\">\n",
       "      <th></th>\n",
       "      <th>budget</th>\n",
       "      <th>company</th>\n",
       "      <th>country</th>\n",
       "      <th>director</th>\n",
       "      <th>genre</th>\n",
       "      <th>gross</th>\n",
       "      <th>name</th>\n",
       "      <th>rating</th>\n",
       "      <th>released</th>\n",
       "      <th>runtime</th>\n",
       "      <th>score</th>\n",
       "      <th>star</th>\n",
       "      <th>votes</th>\n",
       "      <th>writer</th>\n",
       "      <th>year</th>\n",
       "    </tr>\n",
       "  </thead>\n",
       "  <tbody>\n",
       "    <tr>\n",
       "      <th>0</th>\n",
       "      <td>8000000.0</td>\n",
       "      <td>Columbia Pictures Corporation</td>\n",
       "      <td>USA</td>\n",
       "      <td>Rob Reiner</td>\n",
       "      <td>Adventure</td>\n",
       "      <td>52287414.0</td>\n",
       "      <td>Stand by Me</td>\n",
       "      <td>R</td>\n",
       "      <td>1986-08-22</td>\n",
       "      <td>89</td>\n",
       "      <td>8.1</td>\n",
       "      <td>Wil Wheaton</td>\n",
       "      <td>299174</td>\n",
       "      <td>Stephen King</td>\n",
       "      <td>1986</td>\n",
       "    </tr>\n",
       "    <tr>\n",
       "      <th>1</th>\n",
       "      <td>6000000.0</td>\n",
       "      <td>Paramount Pictures</td>\n",
       "      <td>USA</td>\n",
       "      <td>John Hughes</td>\n",
       "      <td>Comedy</td>\n",
       "      <td>70136369.0</td>\n",
       "      <td>Ferris Bueller's Day Off</td>\n",
       "      <td>PG-13</td>\n",
       "      <td>1986-06-11</td>\n",
       "      <td>103</td>\n",
       "      <td>7.8</td>\n",
       "      <td>Matthew Broderick</td>\n",
       "      <td>264740</td>\n",
       "      <td>John Hughes</td>\n",
       "      <td>1986</td>\n",
       "    </tr>\n",
       "    <tr>\n",
       "      <th>2</th>\n",
       "      <td>15000000.0</td>\n",
       "      <td>Paramount Pictures</td>\n",
       "      <td>USA</td>\n",
       "      <td>Tony Scott</td>\n",
       "      <td>Action</td>\n",
       "      <td>179800601.0</td>\n",
       "      <td>Top Gun</td>\n",
       "      <td>PG</td>\n",
       "      <td>1986-05-16</td>\n",
       "      <td>110</td>\n",
       "      <td>6.9</td>\n",
       "      <td>Tom Cruise</td>\n",
       "      <td>236909</td>\n",
       "      <td>Jim Cash</td>\n",
       "      <td>1986</td>\n",
       "    </tr>\n",
       "    <tr>\n",
       "      <th>3</th>\n",
       "      <td>18500000.0</td>\n",
       "      <td>Twentieth Century Fox Film Corporation</td>\n",
       "      <td>USA</td>\n",
       "      <td>James Cameron</td>\n",
       "      <td>Action</td>\n",
       "      <td>85160248.0</td>\n",
       "      <td>Aliens</td>\n",
       "      <td>R</td>\n",
       "      <td>1986-07-18</td>\n",
       "      <td>137</td>\n",
       "      <td>8.4</td>\n",
       "      <td>Sigourney Weaver</td>\n",
       "      <td>540152</td>\n",
       "      <td>James Cameron</td>\n",
       "      <td>1986</td>\n",
       "    </tr>\n",
       "    <tr>\n",
       "      <th>4</th>\n",
       "      <td>9000000.0</td>\n",
       "      <td>Walt Disney Pictures</td>\n",
       "      <td>USA</td>\n",
       "      <td>Randal Kleiser</td>\n",
       "      <td>Adventure</td>\n",
       "      <td>18564613.0</td>\n",
       "      <td>Flight of the Navigator</td>\n",
       "      <td>PG</td>\n",
       "      <td>1986-08-01</td>\n",
       "      <td>90</td>\n",
       "      <td>6.9</td>\n",
       "      <td>Joey Cramer</td>\n",
       "      <td>36636</td>\n",
       "      <td>Mark H. Baker</td>\n",
       "      <td>1986</td>\n",
       "    </tr>\n",
       "  </tbody>\n",
       "</table>\n",
       "</div>"
      ],
      "text/plain": [
       "       budget                                 company country        director  \\\n",
       "0   8000000.0           Columbia Pictures Corporation     USA      Rob Reiner   \n",
       "1   6000000.0                      Paramount Pictures     USA     John Hughes   \n",
       "2  15000000.0                      Paramount Pictures     USA      Tony Scott   \n",
       "3  18500000.0  Twentieth Century Fox Film Corporation     USA   James Cameron   \n",
       "4   9000000.0                    Walt Disney Pictures     USA  Randal Kleiser   \n",
       "\n",
       "       genre        gross                      name rating    released  \\\n",
       "0  Adventure   52287414.0               Stand by Me      R  1986-08-22   \n",
       "1     Comedy   70136369.0  Ferris Bueller's Day Off  PG-13  1986-06-11   \n",
       "2     Action  179800601.0                   Top Gun     PG  1986-05-16   \n",
       "3     Action   85160248.0                    Aliens      R  1986-07-18   \n",
       "4  Adventure   18564613.0   Flight of the Navigator     PG  1986-08-01   \n",
       "\n",
       "   runtime  score               star   votes         writer  year  \n",
       "0       89    8.1        Wil Wheaton  299174   Stephen King  1986  \n",
       "1      103    7.8  Matthew Broderick  264740    John Hughes  1986  \n",
       "2      110    6.9         Tom Cruise  236909       Jim Cash  1986  \n",
       "3      137    8.4   Sigourney Weaver  540152  James Cameron  1986  \n",
       "4       90    6.9        Joey Cramer   36636  Mark H. Baker  1986  "
      ]
     },
     "execution_count": 106,
     "metadata": {},
     "output_type": "execute_result"
    }
   ],
   "source": [
    "data.head()"
   ]
  },
  {
   "cell_type": "code",
   "execution_count": null,
   "metadata": {},
   "outputs": [],
   "source": []
  },
  {
   "cell_type": "code",
   "execution_count": null,
   "metadata": {},
   "outputs": [],
   "source": []
  },
  {
   "cell_type": "markdown",
   "metadata": {},
   "source": [
    "## Data analysis"
   ]
  },
  {
   "cell_type": "code",
   "execution_count": 115,
   "metadata": {},
   "outputs": [],
   "source": [
    "# Choose data set for analysis\n",
    "analysis = data_raw\n",
    "# analysis = data"
   ]
  },
  {
   "cell_type": "markdown",
   "metadata": {},
   "source": [
    "### budget"
   ]
  },
  {
   "cell_type": "code",
   "execution_count": 116,
   "metadata": {},
   "outputs": [
    {
     "name": "stderr",
     "output_type": "stream",
     "text": [
      "/Users/slechwar/miniconda3/lib/python3.6/site-packages/matplotlib/axes/_axes.py:6462: UserWarning: The 'normed' kwarg is deprecated, and has been replaced by the 'density' kwarg.\n",
      "  warnings.warn(\"The 'normed' kwarg is deprecated, and has been \"\n"
     ]
    },
    {
     "data": {
      "text/plain": [
       "<matplotlib.axes._subplots.AxesSubplot at 0x1a257b18d0>"
      ]
     },
     "execution_count": 116,
     "metadata": {},
     "output_type": "execute_result"
    },
    {
     "data": {
      "image/png": "[encoded data removed]",
      "text/plain": [
       "<Figure size 432x288 with 1 Axes>"
      ]
     },
     "metadata": {},
     "output_type": "display_data"
    }
   ],
   "source": [
    "# sns.distplot(data_raw['budget'])\n",
    "sns.distplot(analysis['budget'])"
   ]
  },
  {
   "cell_type": "code",
   "execution_count": 117,
   "metadata": {},
   "outputs": [
    {
     "data": {
      "text/plain": [
       "0.0           2182\n",
       "20000000.0     207\n",
       "30000000.0     191\n",
       "25000000.0     177\n",
       "15000000.0     170\n",
       "Name: budget, dtype: int64"
      ]
     },
     "execution_count": 117,
     "metadata": {},
     "output_type": "execute_result"
    }
   ],
   "source": [
    "analysis['budget'].value_counts().head()\n",
    "# We have more than 2000 zero budget movies. Is that correct? Let's check this out..."
   ]
  },
  {
   "cell_type": "code",
   "execution_count": 118,
   "metadata": {},
   "outputs": [
    {
     "data": {
      "text/html": [
       "<div>\n",
       "<style scoped>\n",
       "    .dataframe tbody tr th:only-of-type {\n",
       "        vertical-align: middle;\n",
       "    }\n",
       "\n",
       "    .dataframe tbody tr th {\n",
       "        vertical-align: top;\n",
       "    }\n",
       "\n",
       "    .dataframe thead th {\n",
       "        text-align: right;\n",
       "    }\n",
       "</style>\n",
       "<table border=\"1\" class=\"dataframe\">\n",
       "  <thead>\n",
       "    <tr style=\"text-align: right;\">\n",
       "      <th></th>\n",
       "      <th>budget</th>\n",
       "      <th>company</th>\n",
       "      <th>country</th>\n",
       "      <th>director</th>\n",
       "      <th>genre</th>\n",
       "      <th>gross</th>\n",
       "      <th>name</th>\n",
       "      <th>rating</th>\n",
       "      <th>released</th>\n",
       "      <th>runtime</th>\n",
       "      <th>score</th>\n",
       "      <th>star</th>\n",
       "      <th>votes</th>\n",
       "      <th>writer</th>\n",
       "      <th>year</th>\n",
       "    </tr>\n",
       "  </thead>\n",
       "  <tbody>\n",
       "    <tr>\n",
       "      <th>25</th>\n",
       "      <td>0.0</td>\n",
       "      <td>TriStar Pictures</td>\n",
       "      <td>USA</td>\n",
       "      <td>John Badham</td>\n",
       "      <td>Comedy</td>\n",
       "      <td>40697761.0</td>\n",
       "      <td>Short Circuit</td>\n",
       "      <td>PG</td>\n",
       "      <td>1986-05-09</td>\n",
       "      <td>98</td>\n",
       "      <td>6.6</td>\n",
       "      <td>Ally Sheedy</td>\n",
       "      <td>47068</td>\n",
       "      <td>S.S. Wilson</td>\n",
       "      <td>1986</td>\n",
       "    </tr>\n",
       "    <tr>\n",
       "      <th>26</th>\n",
       "      <td>0.0</td>\n",
       "      <td>Neue Constantin Film</td>\n",
       "      <td>Italy</td>\n",
       "      <td>Jean-Jacques Annaud</td>\n",
       "      <td>Crime</td>\n",
       "      <td>7153487.0</td>\n",
       "      <td>The Name of the Rose</td>\n",
       "      <td>R</td>\n",
       "      <td>1986-09-24</td>\n",
       "      <td>130</td>\n",
       "      <td>7.8</td>\n",
       "      <td>Sean Connery</td>\n",
       "      <td>86991</td>\n",
       "      <td>Umberto Eco</td>\n",
       "      <td>1986</td>\n",
       "    </tr>\n",
       "    <tr>\n",
       "      <th>27</th>\n",
       "      <td>0.0</td>\n",
       "      <td>TriStar Pictures</td>\n",
       "      <td>USA</td>\n",
       "      <td>Sidney J. Furie</td>\n",
       "      <td>Action</td>\n",
       "      <td>24159872.0</td>\n",
       "      <td>Iron Eagle</td>\n",
       "      <td>PG-13</td>\n",
       "      <td>1986-01-17</td>\n",
       "      <td>117</td>\n",
       "      <td>5.3</td>\n",
       "      <td>Louis Gossett Jr.</td>\n",
       "      <td>11304</td>\n",
       "      <td>Kevin Alyn Elders</td>\n",
       "      <td>1986</td>\n",
       "    </tr>\n",
       "    <tr>\n",
       "      <th>32</th>\n",
       "      <td>0.0</td>\n",
       "      <td>Gaumont</td>\n",
       "      <td>France</td>\n",
       "      <td>Jean-Jacques Beineix</td>\n",
       "      <td>Drama</td>\n",
       "      <td>2003822.0</td>\n",
       "      <td>Betty Blue</td>\n",
       "      <td>Not specified</td>\n",
       "      <td>1986-11-07</td>\n",
       "      <td>120</td>\n",
       "      <td>7.4</td>\n",
       "      <td>Jean-Hugues Anglade</td>\n",
       "      <td>14562</td>\n",
       "      <td>Philippe Djian</td>\n",
       "      <td>1986</td>\n",
       "    </tr>\n",
       "    <tr>\n",
       "      <th>35</th>\n",
       "      <td>0.0</td>\n",
       "      <td>Columbia Pictures Corporation</td>\n",
       "      <td>USA</td>\n",
       "      <td>John G. Avildsen</td>\n",
       "      <td>Action</td>\n",
       "      <td>115103979.0</td>\n",
       "      <td>The Karate Kid Part II</td>\n",
       "      <td>PG</td>\n",
       "      <td>1986-06-20</td>\n",
       "      <td>113</td>\n",
       "      <td>5.9</td>\n",
       "      <td>Pat Morita</td>\n",
       "      <td>58370</td>\n",
       "      <td>Robert Mark Kamen</td>\n",
       "      <td>1986</td>\n",
       "    </tr>\n",
       "  </tbody>\n",
       "</table>\n",
       "</div>"
      ],
      "text/plain": [
       "    budget                        company country              director  \\\n",
       "25     0.0               TriStar Pictures     USA           John Badham   \n",
       "26     0.0           Neue Constantin Film   Italy   Jean-Jacques Annaud   \n",
       "27     0.0               TriStar Pictures     USA       Sidney J. Furie   \n",
       "32     0.0                        Gaumont  France  Jean-Jacques Beineix   \n",
       "35     0.0  Columbia Pictures Corporation     USA      John G. Avildsen   \n",
       "\n",
       "     genre        gross                    name         rating    released  \\\n",
       "25  Comedy   40697761.0           Short Circuit             PG  1986-05-09   \n",
       "26   Crime    7153487.0    The Name of the Rose              R  1986-09-24   \n",
       "27  Action   24159872.0              Iron Eagle          PG-13  1986-01-17   \n",
       "32   Drama    2003822.0              Betty Blue  Not specified  1986-11-07   \n",
       "35  Action  115103979.0  The Karate Kid Part II             PG  1986-06-20   \n",
       "\n",
       "    runtime  score                 star  votes             writer  year  \n",
       "25       98    6.6          Ally Sheedy  47068        S.S. Wilson  1986  \n",
       "26      130    7.8         Sean Connery  86991        Umberto Eco  1986  \n",
       "27      117    5.3    Louis Gossett Jr.  11304  Kevin Alyn Elders  1986  \n",
       "32      120    7.4  Jean-Hugues Anglade  14562     Philippe Djian  1986  \n",
       "35      113    5.9           Pat Morita  58370  Robert Mark Kamen  1986  "
      ]
     },
     "execution_count": 118,
     "metadata": {},
     "output_type": "execute_result"
    }
   ],
   "source": [
    "analysis[analysis['budget'] == 0.0].head()\n",
    "# \"The Name of the Rose\" is for sure NOT zero budget movie, I need to treat that as unknown"
   ]
  },
  {
   "cell_type": "code",
   "execution_count": 119,
   "metadata": {},
   "outputs": [
    {
     "data": {
      "text/html": [
       "<div>\n",
       "<style scoped>\n",
       "    .dataframe tbody tr th:only-of-type {\n",
       "        vertical-align: middle;\n",
       "    }\n",
       "\n",
       "    .dataframe tbody tr th {\n",
       "        vertical-align: top;\n",
       "    }\n",
       "\n",
       "    .dataframe thead th {\n",
       "        text-align: right;\n",
       "    }\n",
       "</style>\n",
       "<table border=\"1\" class=\"dataframe\">\n",
       "  <thead>\n",
       "    <tr style=\"text-align: right;\">\n",
       "      <th></th>\n",
       "      <th>budget</th>\n",
       "      <th>company</th>\n",
       "      <th>country</th>\n",
       "      <th>director</th>\n",
       "      <th>genre</th>\n",
       "      <th>gross</th>\n",
       "      <th>name</th>\n",
       "      <th>rating</th>\n",
       "      <th>released</th>\n",
       "      <th>runtime</th>\n",
       "      <th>score</th>\n",
       "      <th>star</th>\n",
       "      <th>votes</th>\n",
       "      <th>writer</th>\n",
       "      <th>year</th>\n",
       "    </tr>\n",
       "  </thead>\n",
       "  <tbody>\n",
       "    <tr>\n",
       "      <th>4631</th>\n",
       "      <td>300000000.0</td>\n",
       "      <td>Walt Disney Pictures</td>\n",
       "      <td>USA</td>\n",
       "      <td>Gore Verbinski</td>\n",
       "      <td>Action</td>\n",
       "      <td>309420425.0</td>\n",
       "      <td>Pirates of the Caribbean: At World's End</td>\n",
       "      <td>PG-13</td>\n",
       "      <td>2007-05-25</td>\n",
       "      <td>169</td>\n",
       "      <td>7.1</td>\n",
       "      <td>Johnny Depp</td>\n",
       "      <td>514191</td>\n",
       "      <td>Ted Elliott</td>\n",
       "      <td>2007</td>\n",
       "    </tr>\n",
       "    <tr>\n",
       "      <th>5293</th>\n",
       "      <td>260000000.0</td>\n",
       "      <td>Walt Disney Animation Studios</td>\n",
       "      <td>USA</td>\n",
       "      <td>Nathan Greno</td>\n",
       "      <td>Animation</td>\n",
       "      <td>200821936.0</td>\n",
       "      <td>Tangled</td>\n",
       "      <td>PG</td>\n",
       "      <td>2010-11-24</td>\n",
       "      <td>100</td>\n",
       "      <td>7.8</td>\n",
       "      <td>Mandy Moore</td>\n",
       "      <td>325621</td>\n",
       "      <td>Dan Fogelman</td>\n",
       "      <td>2010</td>\n",
       "    </tr>\n",
       "    <tr>\n",
       "      <th>4637</th>\n",
       "      <td>258000000.0</td>\n",
       "      <td>Columbia Pictures</td>\n",
       "      <td>USA</td>\n",
       "      <td>Sam Raimi</td>\n",
       "      <td>Action</td>\n",
       "      <td>336530303.0</td>\n",
       "      <td>Spider-Man 3</td>\n",
       "      <td>PG-13</td>\n",
       "      <td>2007-05-04</td>\n",
       "      <td>139</td>\n",
       "      <td>6.2</td>\n",
       "      <td>Tobey Maguire</td>\n",
       "      <td>416842</td>\n",
       "      <td>Sam Raimi</td>\n",
       "      <td>2007</td>\n",
       "    </tr>\n",
       "    <tr>\n",
       "      <th>6624</th>\n",
       "      <td>250000000.0</td>\n",
       "      <td>Marvel Studios</td>\n",
       "      <td>USA</td>\n",
       "      <td>Anthony Russo</td>\n",
       "      <td>Action</td>\n",
       "      <td>408084349.0</td>\n",
       "      <td>Captain America: Civil War</td>\n",
       "      <td>PG-13</td>\n",
       "      <td>2016-05-06</td>\n",
       "      <td>147</td>\n",
       "      <td>7.9</td>\n",
       "      <td>Chris Evans</td>\n",
       "      <td>442645</td>\n",
       "      <td>Christopher Markus</td>\n",
       "      <td>2016</td>\n",
       "    </tr>\n",
       "    <tr>\n",
       "      <th>6194</th>\n",
       "      <td>250000000.0</td>\n",
       "      <td>New Line Cinema</td>\n",
       "      <td>New Zealand</td>\n",
       "      <td>Peter Jackson</td>\n",
       "      <td>Adventure</td>\n",
       "      <td>255119788.0</td>\n",
       "      <td>The Hobbit: The Battle of the Five Armies</td>\n",
       "      <td>PG-13</td>\n",
       "      <td>2014-12-17</td>\n",
       "      <td>144</td>\n",
       "      <td>7.4</td>\n",
       "      <td>Ian McKellen</td>\n",
       "      <td>396797</td>\n",
       "      <td>Fran Walsh</td>\n",
       "      <td>2014</td>\n",
       "    </tr>\n",
       "  </tbody>\n",
       "</table>\n",
       "</div>"
      ],
      "text/plain": [
       "           budget                        company      country        director  \\\n",
       "4631  300000000.0           Walt Disney Pictures          USA  Gore Verbinski   \n",
       "5293  260000000.0  Walt Disney Animation Studios          USA    Nathan Greno   \n",
       "4637  258000000.0              Columbia Pictures          USA       Sam Raimi   \n",
       "6624  250000000.0                 Marvel Studios          USA   Anthony Russo   \n",
       "6194  250000000.0                New Line Cinema  New Zealand   Peter Jackson   \n",
       "\n",
       "          genre        gross                                       name  \\\n",
       "4631     Action  309420425.0   Pirates of the Caribbean: At World's End   \n",
       "5293  Animation  200821936.0                                    Tangled   \n",
       "4637     Action  336530303.0                               Spider-Man 3   \n",
       "6624     Action  408084349.0                 Captain America: Civil War   \n",
       "6194  Adventure  255119788.0  The Hobbit: The Battle of the Five Armies   \n",
       "\n",
       "     rating    released  runtime  score           star   votes  \\\n",
       "4631  PG-13  2007-05-25      169    7.1    Johnny Depp  514191   \n",
       "5293     PG  2010-11-24      100    7.8    Mandy Moore  325621   \n",
       "4637  PG-13  2007-05-04      139    6.2  Tobey Maguire  416842   \n",
       "6624  PG-13  2016-05-06      147    7.9    Chris Evans  442645   \n",
       "6194  PG-13  2014-12-17      144    7.4   Ian McKellen  396797   \n",
       "\n",
       "                  writer  year  \n",
       "4631         Ted Elliott  2007  \n",
       "5293        Dan Fogelman  2010  \n",
       "4637           Sam Raimi  2007  \n",
       "6624  Christopher Markus  2016  \n",
       "6194          Fran Walsh  2014  "
      ]
     },
     "execution_count": 119,
     "metadata": {},
     "output_type": "execute_result"
    }
   ],
   "source": [
    "# What was higher budget movies? Is that real?\n",
    "analysis.sort_values(by='budget', ascending=False).head()\n",
    "# Seems real.\n",
    "# Idea for data transformation -> create bucket'ize version of variable"
   ]
  },
  {
   "cell_type": "markdown",
   "metadata": {},
   "source": [
    "### gross"
   ]
  },
  {
   "cell_type": "code",
   "execution_count": 120,
   "metadata": {},
   "outputs": [
    {
     "data": {
      "text/html": [
       "<div>\n",
       "<style scoped>\n",
       "    .dataframe tbody tr th:only-of-type {\n",
       "        vertical-align: middle;\n",
       "    }\n",
       "\n",
       "    .dataframe tbody tr th {\n",
       "        vertical-align: top;\n",
       "    }\n",
       "\n",
       "    .dataframe thead th {\n",
       "        text-align: right;\n",
       "    }\n",
       "</style>\n",
       "<table border=\"1\" class=\"dataframe\">\n",
       "  <thead>\n",
       "    <tr style=\"text-align: right;\">\n",
       "      <th></th>\n",
       "      <th>budget</th>\n",
       "      <th>company</th>\n",
       "      <th>country</th>\n",
       "      <th>director</th>\n",
       "      <th>genre</th>\n",
       "      <th>gross</th>\n",
       "      <th>name</th>\n",
       "      <th>rating</th>\n",
       "      <th>released</th>\n",
       "      <th>runtime</th>\n",
       "      <th>score</th>\n",
       "      <th>star</th>\n",
       "      <th>votes</th>\n",
       "      <th>writer</th>\n",
       "      <th>year</th>\n",
       "    </tr>\n",
       "  </thead>\n",
       "  <tbody>\n",
       "  </tbody>\n",
       "</table>\n",
       "</div>"
      ],
      "text/plain": [
       "Empty DataFrame\n",
       "Columns: [budget, company, country, director, genre, gross, name, rating, released, runtime, score, star, votes, writer, year]\n",
       "Index: []"
      ]
     },
     "execution_count": 120,
     "metadata": {},
     "output_type": "execute_result"
    }
   ],
   "source": [
    "analysis[analysis['gross'] == 0.0]\n",
    "# no 0.0's"
   ]
  },
  {
   "cell_type": "markdown",
   "metadata": {},
   "source": [
    "### comapny"
   ]
  },
  {
   "cell_type": "code",
   "execution_count": 121,
   "metadata": {},
   "outputs": [
    {
     "data": {
      "text/plain": [
       "(2179,)"
      ]
     },
     "execution_count": 121,
     "metadata": {},
     "output_type": "execute_result"
    }
   ],
   "source": [
    "analysis['company'].value_counts().shape"
   ]
  },
  {
   "cell_type": "code",
   "execution_count": 122,
   "metadata": {},
   "outputs": [
    {
     "data": {
      "text/plain": [
       "Universal Pictures                        302\n",
       "Warner Bros.                              294\n",
       "Paramount Pictures                        259\n",
       "Twentieth Century Fox Film Corporation    205\n",
       "New Line Cinema                           172\n",
       "Name: company, dtype: int64"
      ]
     },
     "execution_count": 122,
     "metadata": {},
     "output_type": "execute_result"
    }
   ],
   "source": [
    "analysis['company'].value_counts().head()"
   ]
  },
  {
   "cell_type": "markdown",
   "metadata": {},
   "source": [
    "### country"
   ]
  },
  {
   "cell_type": "code",
   "execution_count": 123,
   "metadata": {},
   "outputs": [
    {
     "data": {
      "text/plain": [
       "(57,)"
      ]
     },
     "execution_count": 123,
     "metadata": {},
     "output_type": "execute_result"
    }
   ],
   "source": [
    "analysis['country'].value_counts().shape"
   ]
  },
  {
   "cell_type": "code",
   "execution_count": 125,
   "metadata": {},
   "outputs": [
    {
     "data": {
      "text/plain": [
       "0"
      ]
     },
     "execution_count": 125,
     "metadata": {},
     "output_type": "execute_result"
    }
   ],
   "source": [
    "analysis['country'].isnull().sum()"
   ]
  },
  {
   "cell_type": "code",
   "execution_count": 124,
   "metadata": {},
   "outputs": [
    {
     "data": {
      "text/plain": [
       "USA        4872\n",
       "UK          698\n",
       "France      283\n",
       "Canada      150\n",
       "Germany     134\n",
       "Name: country, dtype: int64"
      ]
     },
     "execution_count": 124,
     "metadata": {},
     "output_type": "execute_result"
    }
   ],
   "source": [
    "analysis['country'].value_counts().head()"
   ]
  },
  {
   "cell_type": "code",
   "execution_count": 126,
   "metadata": {},
   "outputs": [],
   "source": [
    "top_5_countries = list(analysis['country'].value_counts().head(5).index)\n",
    "data_raw_top_5_countries = analysis[analysis['country'].isin(top_5_countries)]"
   ]
  },
  {
   "cell_type": "code",
   "execution_count": 65,
   "metadata": {},
   "outputs": [
    {
     "data": {
      "image/png": "[encoded data removed]",
      "text/plain": [
       "<Figure size 1080x360 with 2 Axes>"
      ]
     },
     "metadata": {},
     "output_type": "display_data"
    }
   ],
   "source": [
    "plt.figure(figsize=(15,5))\n",
    "\n",
    "plt.subplot(121)\n",
    "sns.boxplot(x='country', y='budget', data=data_raw_top_5_countries)\n",
    "\n",
    "plt.subplot(122)\n",
    "sns.boxplot(x='country', y='gross', data=data_raw_top_5_countries)\n",
    "\n",
    "plt.tight_layout()"
   ]
  },
  {
   "cell_type": "markdown",
   "metadata": {},
   "source": [
    "### rating"
   ]
  },
  {
   "cell_type": "code",
   "execution_count": 127,
   "metadata": {},
   "outputs": [
    {
     "data": {
      "text/plain": [
       "R                3392\n",
       "PG-13            1995\n",
       "PG                951\n",
       "NOT RATED         174\n",
       "G                 147\n",
       "UNRATED            71\n",
       "Not specified      63\n",
       "NC-17              22\n",
       "TV-14               1\n",
       "B15                 1\n",
       "TV-PG               1\n",
       "B                   1\n",
       "TV-MA               1\n",
       "Name: rating, dtype: int64"
      ]
     },
     "execution_count": 127,
     "metadata": {},
     "output_type": "execute_result"
    }
   ],
   "source": [
    "analysis['rating'].value_counts()\n",
    "# Some explainantions:\n",
    "# https://en.wikipedia.org/wiki/Motion_Picture_Association_of_America_film_rating_system\n",
    "# Seems that we got a lot \"R\" restricted movies.\n",
    "\n",
    "# We have 3 types of missing data:\n",
    "# NOT RATED\n",
    "# UNRATED\n",
    "# Not specified"
   ]
  },
  {
   "cell_type": "markdown",
   "metadata": {},
   "source": [
    "### runtime"
   ]
  },
  {
   "cell_type": "code",
   "execution_count": 132,
   "metadata": {},
   "outputs": [
    {
     "name": "stderr",
     "output_type": "stream",
     "text": [
      "/Users/slechwar/miniconda3/lib/python3.6/site-packages/matplotlib/axes/_axes.py:6462: UserWarning: The 'normed' kwarg is deprecated, and has been replaced by the 'density' kwarg.\n",
      "  warnings.warn(\"The 'normed' kwarg is deprecated, and has been \"\n"
     ]
    },
    {
     "data": {
      "text/plain": [
       "<matplotlib.axes._subplots.AxesSubplot at 0x1a235ca4e0>"
      ]
     },
     "execution_count": 132,
     "metadata": {},
     "output_type": "execute_result"
    },
    {
     "data": {
      "image/png": "[encoded data removed]",
      "text/plain": [
       "<Figure size 432x288 with 1 Axes>"
      ]
     },
     "metadata": {},
     "output_type": "display_data"
    }
   ],
   "source": [
    "sns.distplot(analysis['runtime'])"
   ]
  },
  {
   "cell_type": "markdown",
   "metadata": {},
   "source": [
    "### score"
   ]
  },
  {
   "cell_type": "code",
   "execution_count": 133,
   "metadata": {},
   "outputs": [
    {
     "name": "stderr",
     "output_type": "stream",
     "text": [
      "/Users/slechwar/miniconda3/lib/python3.6/site-packages/matplotlib/axes/_axes.py:6462: UserWarning: The 'normed' kwarg is deprecated, and has been replaced by the 'density' kwarg.\n",
      "  warnings.warn(\"The 'normed' kwarg is deprecated, and has been \"\n"
     ]
    },
    {
     "data": {
      "text/plain": [
       "<matplotlib.axes._subplots.AxesSubplot at 0x1a256b8320>"
      ]
     },
     "execution_count": 133,
     "metadata": {},
     "output_type": "execute_result"
    },
    {
     "data": {
      "image/png": "[encoded data removed]",
      "text/plain": [
       "<Figure size 432x288 with 1 Axes>"
      ]
     },
     "metadata": {},
     "output_type": "display_data"
    }
   ],
   "source": [
    "sns.distplot(analysis['score'])"
   ]
  },
  {
   "cell_type": "code",
   "execution_count": 142,
   "metadata": {},
   "outputs": [
    {
     "data": {
      "text/html": [
       "<div>\n",
       "<style scoped>\n",
       "    .dataframe tbody tr th:only-of-type {\n",
       "        vertical-align: middle;\n",
       "    }\n",
       "\n",
       "    .dataframe tbody tr th {\n",
       "        vertical-align: top;\n",
       "    }\n",
       "\n",
       "    .dataframe thead th {\n",
       "        text-align: right;\n",
       "    }\n",
       "</style>\n",
       "<table border=\"1\" class=\"dataframe\">\n",
       "  <thead>\n",
       "    <tr style=\"text-align: right;\">\n",
       "      <th></th>\n",
       "      <th>budget</th>\n",
       "      <th>company</th>\n",
       "      <th>country</th>\n",
       "      <th>director</th>\n",
       "      <th>genre</th>\n",
       "      <th>gross</th>\n",
       "      <th>name</th>\n",
       "      <th>rating</th>\n",
       "      <th>released</th>\n",
       "      <th>runtime</th>\n",
       "      <th>score</th>\n",
       "      <th>star</th>\n",
       "      <th>votes</th>\n",
       "      <th>writer</th>\n",
       "      <th>year</th>\n",
       "    </tr>\n",
       "  </thead>\n",
       "  <tbody>\n",
       "    <tr>\n",
       "      <th>1760</th>\n",
       "      <td>25000000.0</td>\n",
       "      <td>Castle Rock Entertainment</td>\n",
       "      <td>USA</td>\n",
       "      <td>Frank Darabont</td>\n",
       "      <td>Crime</td>\n",
       "      <td>28341469.0</td>\n",
       "      <td>The Shawshank Redemption</td>\n",
       "      <td>R</td>\n",
       "      <td>1994-10-14</td>\n",
       "      <td>142</td>\n",
       "      <td>9.3</td>\n",
       "      <td>Tim Robbins</td>\n",
       "      <td>1861666</td>\n",
       "      <td>Stephen King</td>\n",
       "      <td>1994</td>\n",
       "    </tr>\n",
       "    <tr>\n",
       "      <th>4840</th>\n",
       "      <td>185000000.0</td>\n",
       "      <td>Warner Bros.</td>\n",
       "      <td>USA</td>\n",
       "      <td>Christopher Nolan</td>\n",
       "      <td>Action</td>\n",
       "      <td>534858444.0</td>\n",
       "      <td>The Dark Knight</td>\n",
       "      <td>PG-13</td>\n",
       "      <td>2008-07-18</td>\n",
       "      <td>152</td>\n",
       "      <td>9.0</td>\n",
       "      <td>Christian Bale</td>\n",
       "      <td>1839571</td>\n",
       "      <td>Jonathan Nolan</td>\n",
       "      <td>2008</td>\n",
       "    </tr>\n",
       "    <tr>\n",
       "      <th>1542</th>\n",
       "      <td>22000000.0</td>\n",
       "      <td>Universal Pictures</td>\n",
       "      <td>USA</td>\n",
       "      <td>Steven Spielberg</td>\n",
       "      <td>Biography</td>\n",
       "      <td>96067179.0</td>\n",
       "      <td>Schindler's List</td>\n",
       "      <td>R</td>\n",
       "      <td>1994-02-04</td>\n",
       "      <td>195</td>\n",
       "      <td>8.9</td>\n",
       "      <td>Liam Neeson</td>\n",
       "      <td>956124</td>\n",
       "      <td>Thomas Keneally</td>\n",
       "      <td>1993</td>\n",
       "    </tr>\n",
       "    <tr>\n",
       "      <th>1761</th>\n",
       "      <td>8000000.0</td>\n",
       "      <td>Miramax</td>\n",
       "      <td>USA</td>\n",
       "      <td>Quentin Tarantino</td>\n",
       "      <td>Crime</td>\n",
       "      <td>107928762.0</td>\n",
       "      <td>Pulp Fiction</td>\n",
       "      <td>R</td>\n",
       "      <td>1994-10-14</td>\n",
       "      <td>154</td>\n",
       "      <td>8.9</td>\n",
       "      <td>John Travolta</td>\n",
       "      <td>1456787</td>\n",
       "      <td>Quentin Tarantino</td>\n",
       "      <td>1994</td>\n",
       "    </tr>\n",
       "    <tr>\n",
       "      <th>3743</th>\n",
       "      <td>94000000.0</td>\n",
       "      <td>New Line Cinema</td>\n",
       "      <td>USA</td>\n",
       "      <td>Peter Jackson</td>\n",
       "      <td>Adventure</td>\n",
       "      <td>377845905.0</td>\n",
       "      <td>The Lord of the Rings: The Return of the King</td>\n",
       "      <td>PG-13</td>\n",
       "      <td>2003-12-17</td>\n",
       "      <td>201</td>\n",
       "      <td>8.9</td>\n",
       "      <td>Elijah Wood</td>\n",
       "      <td>1332020</td>\n",
       "      <td>J.R.R. Tolkien</td>\n",
       "      <td>2003</td>\n",
       "    </tr>\n",
       "  </tbody>\n",
       "</table>\n",
       "</div>"
      ],
      "text/plain": [
       "           budget                    company country           director  \\\n",
       "1760   25000000.0  Castle Rock Entertainment     USA     Frank Darabont   \n",
       "4840  185000000.0               Warner Bros.     USA  Christopher Nolan   \n",
       "1542   22000000.0         Universal Pictures     USA   Steven Spielberg   \n",
       "1761    8000000.0                    Miramax     USA  Quentin Tarantino   \n",
       "3743   94000000.0            New Line Cinema     USA      Peter Jackson   \n",
       "\n",
       "          genre        gross                                           name  \\\n",
       "1760      Crime   28341469.0                       The Shawshank Redemption   \n",
       "4840     Action  534858444.0                                The Dark Knight   \n",
       "1542  Biography   96067179.0                               Schindler's List   \n",
       "1761      Crime  107928762.0                                   Pulp Fiction   \n",
       "3743  Adventure  377845905.0  The Lord of the Rings: The Return of the King   \n",
       "\n",
       "     rating    released  runtime  score            star    votes  \\\n",
       "1760      R  1994-10-14      142    9.3     Tim Robbins  1861666   \n",
       "4840  PG-13  2008-07-18      152    9.0  Christian Bale  1839571   \n",
       "1542      R  1994-02-04      195    8.9     Liam Neeson   956124   \n",
       "1761      R  1994-10-14      154    8.9   John Travolta  1456787   \n",
       "3743  PG-13  2003-12-17      201    8.9     Elijah Wood  1332020   \n",
       "\n",
       "                 writer  year  \n",
       "1760       Stephen King  1994  \n",
       "4840     Jonathan Nolan  2008  \n",
       "1542    Thomas Keneally  1993  \n",
       "1761  Quentin Tarantino  1994  \n",
       "3743     J.R.R. Tolkien  2003  "
      ]
     },
     "execution_count": 142,
     "metadata": {},
     "output_type": "execute_result"
    }
   ],
   "source": [
    "analysis.sort_values(by='score', ascending=False).head()"
   ]
  },
  {
   "cell_type": "markdown",
   "metadata": {},
   "source": [
    "### votes"
   ]
  },
  {
   "cell_type": "code",
   "execution_count": 143,
   "metadata": {},
   "outputs": [
    {
     "name": "stderr",
     "output_type": "stream",
     "text": [
      "/Users/slechwar/miniconda3/lib/python3.6/site-packages/matplotlib/axes/_axes.py:6462: UserWarning: The 'normed' kwarg is deprecated, and has been replaced by the 'density' kwarg.\n",
      "  warnings.warn(\"The 'normed' kwarg is deprecated, and has been \"\n"
     ]
    },
    {
     "data": {
      "text/plain": [
       "<matplotlib.axes._subplots.AxesSubplot at 0x1a21a72d30>"
      ]
     },
     "execution_count": 143,
     "metadata": {},
     "output_type": "execute_result"
    },
    {
     "data": {
      "image/png": "[encoded data removed]",
      "text/plain": [
       "<Figure size 432x288 with 1 Axes>"
      ]
     },
     "metadata": {},
     "output_type": "display_data"
    }
   ],
   "source": [
    "sns.distplot(analysis['votes'])"
   ]
  },
  {
   "cell_type": "code",
   "execution_count": 148,
   "metadata": {},
   "outputs": [
    {
     "data": {
      "text/plain": [
       "1077     27\n",
       "213     103\n",
       "1093    125\n",
       "1096    139\n",
       "215     139\n",
       "3057    146\n",
       "155     154\n",
       "188     156\n",
       "208     163\n",
       "202     171\n",
       "Name: votes, dtype: int64"
      ]
     },
     "execution_count": 148,
     "metadata": {},
     "output_type": "execute_result"
    }
   ],
   "source": [
    "analysis['votes'].sort_values().head(10)\n",
    "# We do not have missing data here."
   ]
  },
  {
   "cell_type": "markdown",
   "metadata": {},
   "source": [
    "### star"
   ]
  },
  {
   "cell_type": "code",
   "execution_count": 149,
   "metadata": {},
   "outputs": [
    {
     "data": {
      "text/plain": [
       "0"
      ]
     },
     "execution_count": 149,
     "metadata": {},
     "output_type": "execute_result"
    }
   ],
   "source": [
    "analysis['star'].isnull().sum()"
   ]
  },
  {
   "cell_type": "markdown",
   "metadata": {},
   "source": [
    "### writer"
   ]
  },
  {
   "cell_type": "code",
   "execution_count": 150,
   "metadata": {},
   "outputs": [
    {
     "data": {
      "text/plain": [
       "0"
      ]
     },
     "execution_count": 150,
     "metadata": {},
     "output_type": "execute_result"
    }
   ],
   "source": [
    "analysis['writer'].isnull().sum()"
   ]
  },
  {
   "cell_type": "markdown",
   "metadata": {},
   "source": [
    "### year"
   ]
  },
  {
   "cell_type": "code",
   "execution_count": 161,
   "metadata": {},
   "outputs": [
    {
     "name": "stderr",
     "output_type": "stream",
     "text": [
      "/Users/slechwar/miniconda3/lib/python3.6/site-packages/matplotlib/axes/_axes.py:6462: UserWarning: The 'normed' kwarg is deprecated, and has been replaced by the 'density' kwarg.\n",
      "  warnings.warn(\"The 'normed' kwarg is deprecated, and has been \"\n"
     ]
    },
    {
     "data": {
      "text/plain": [
       "<matplotlib.axes._subplots.AxesSubplot at 0x1a269372b0>"
      ]
     },
     "execution_count": 161,
     "metadata": {},
     "output_type": "execute_result"
    },
    {
     "data": {
      "image/png": "[encoded data removed]",
      "text/plain": [
       "<Figure size 432x288 with 1 Axes>"
      ]
     },
     "metadata": {},
     "output_type": "display_data"
    }
   ],
   "source": [
    "sns.distplot(analysis['year'])"
   ]
  },
  {
   "cell_type": "code",
   "execution_count": null,
   "metadata": {},
   "outputs": [],
   "source": []
  }
 ],
 "metadata": {
  "kernelspec": {
   "display_name": "Python 3",
   "language": "python",
   "name": "python3"
  },
  "language_info": {
   "codemirror_mode": {
    "name": "ipython",
    "version": 3
   },
   "file_extension": ".py",
   "mimetype": "text/x-python",
   "name": "python",
   "nbconvert_exporter": "python",
   "pygments_lexer": "ipython3",
   "version": "3.6.6"
  }
 },
 "nbformat": 4,
 "nbformat_minor": 2
}
