{
 "cells": [
  {
   "cell_type": "code",
   "execution_count": 52,
   "metadata": {},
   "outputs": [],
   "source": [
    "'''\n",
    "Is the movie industry dying? is Netflix the new entertainment king? \n",
    "Those were the first questions that lead me to create a dataset focused on movie revenue and analyze it over the last decades. \n",
    "But, why stop there? There are more factors that intervene in this kind of thing, like actors, genres, user ratings and more. \n",
    "And now, anyone with experience (you) can ask specific questions about the movie industry, and get answers.\n",
    "'''\n",
    "%reset"
   ]
  },
  {
   "cell_type": "code",
   "execution_count": 53,
   "metadata": {},
   "outputs": [],
   "source": [
    "import numpy as np\n",
    "import pandas as pd\n",
    "\n",
    "import matplotlib.pyplot as plt\n",
    "import seaborn as sns\n",
    "%matplotlib inline\n",
    "\n",
    "from sklearn.model_selection import train_test_split\n",
    "\n",
    "import warnings\n",
    "warnings.filterwarnings(action='once')"
   ]
  },
  {
   "cell_type": "code",
   "execution_count": 81,
   "metadata": {},
   "outputs": [
    {
     "data": {
      "text/html": [
       "<div>\n",
       "<style scoped>\n",
       "    .dataframe tbody tr th:only-of-type {\n",
       "        vertical-align: middle;\n",
       "    }\n",
       "\n",
       "    .dataframe tbody tr th {\n",
       "        vertical-align: top;\n",
       "    }\n",
       "\n",
       "    .dataframe thead th {\n",
       "        text-align: right;\n",
       "    }\n",
       "</style>\n",
       "<table border=\"1\" class=\"dataframe\">\n",
       "  <thead>\n",
       "    <tr style=\"text-align: right;\">\n",
       "      <th></th>\n",
       "      <th>budget</th>\n",
       "      <th>company</th>\n",
       "      <th>country</th>\n",
       "      <th>director</th>\n",
       "      <th>genre</th>\n",
       "      <th>gross</th>\n",
       "      <th>name</th>\n",
       "      <th>rating</th>\n",
       "      <th>released</th>\n",
       "      <th>runtime</th>\n",
       "      <th>score</th>\n",
       "      <th>star</th>\n",
       "      <th>votes</th>\n",
       "      <th>writer</th>\n",
       "      <th>year</th>\n",
       "    </tr>\n",
       "  </thead>\n",
       "  <tbody>\n",
       "    <tr>\n",
       "      <th>0</th>\n",
       "      <td>8000000.0</td>\n",
       "      <td>Columbia Pictures Corporation</td>\n",
       "      <td>USA</td>\n",
       "      <td>Rob Reiner</td>\n",
       "      <td>Adventure</td>\n",
       "      <td>52287414.0</td>\n",
       "      <td>Stand by Me</td>\n",
       "      <td>R</td>\n",
       "      <td>1986-08-22</td>\n",
       "      <td>89</td>\n",
       "      <td>8.1</td>\n",
       "      <td>Wil Wheaton</td>\n",
       "      <td>299174</td>\n",
       "      <td>Stephen King</td>\n",
       "      <td>1986</td>\n",
       "    </tr>\n",
       "    <tr>\n",
       "      <th>1</th>\n",
       "      <td>6000000.0</td>\n",
       "      <td>Paramount Pictures</td>\n",
       "      <td>USA</td>\n",
       "      <td>John Hughes</td>\n",
       "      <td>Comedy</td>\n",
       "      <td>70136369.0</td>\n",
       "      <td>Ferris Bueller's Day Off</td>\n",
       "      <td>PG-13</td>\n",
       "      <td>1986-06-11</td>\n",
       "      <td>103</td>\n",
       "      <td>7.8</td>\n",
       "      <td>Matthew Broderick</td>\n",
       "      <td>264740</td>\n",
       "      <td>John Hughes</td>\n",
       "      <td>1986</td>\n",
       "    </tr>\n",
       "    <tr>\n",
       "      <th>2</th>\n",
       "      <td>15000000.0</td>\n",
       "      <td>Paramount Pictures</td>\n",
       "      <td>USA</td>\n",
       "      <td>Tony Scott</td>\n",
       "      <td>Action</td>\n",
       "      <td>179800601.0</td>\n",
       "      <td>Top Gun</td>\n",
       "      <td>PG</td>\n",
       "      <td>1986-05-16</td>\n",
       "      <td>110</td>\n",
       "      <td>6.9</td>\n",
       "      <td>Tom Cruise</td>\n",
       "      <td>236909</td>\n",
       "      <td>Jim Cash</td>\n",
       "      <td>1986</td>\n",
       "    </tr>\n",
       "    <tr>\n",
       "      <th>3</th>\n",
       "      <td>18500000.0</td>\n",
       "      <td>Twentieth Century Fox Film Corporation</td>\n",
       "      <td>USA</td>\n",
       "      <td>James Cameron</td>\n",
       "      <td>Action</td>\n",
       "      <td>85160248.0</td>\n",
       "      <td>Aliens</td>\n",
       "      <td>R</td>\n",
       "      <td>1986-07-18</td>\n",
       "      <td>137</td>\n",
       "      <td>8.4</td>\n",
       "      <td>Sigourney Weaver</td>\n",
       "      <td>540152</td>\n",
       "      <td>James Cameron</td>\n",
       "      <td>1986</td>\n",
       "    </tr>\n",
       "    <tr>\n",
       "      <th>4</th>\n",
       "      <td>9000000.0</td>\n",
       "      <td>Walt Disney Pictures</td>\n",
       "      <td>USA</td>\n",
       "      <td>Randal Kleiser</td>\n",
       "      <td>Adventure</td>\n",
       "      <td>18564613.0</td>\n",
       "      <td>Flight of the Navigator</td>\n",
       "      <td>PG</td>\n",
       "      <td>1986-08-01</td>\n",
       "      <td>90</td>\n",
       "      <td>6.9</td>\n",
       "      <td>Joey Cramer</td>\n",
       "      <td>36636</td>\n",
       "      <td>Mark H. Baker</td>\n",
       "      <td>1986</td>\n",
       "    </tr>\n",
       "  </tbody>\n",
       "</table>\n",
       "</div>"
      ],
      "text/plain": [
       "       budget                                 company country        director  \\\n",
       "0   8000000.0           Columbia Pictures Corporation     USA      Rob Reiner   \n",
       "1   6000000.0                      Paramount Pictures     USA     John Hughes   \n",
       "2  15000000.0                      Paramount Pictures     USA      Tony Scott   \n",
       "3  18500000.0  Twentieth Century Fox Film Corporation     USA   James Cameron   \n",
       "4   9000000.0                    Walt Disney Pictures     USA  Randal Kleiser   \n",
       "\n",
       "       genre        gross                      name rating    released  \\\n",
       "0  Adventure   52287414.0               Stand by Me      R  1986-08-22   \n",
       "1     Comedy   70136369.0  Ferris Bueller's Day Off  PG-13  1986-06-11   \n",
       "2     Action  179800601.0                   Top Gun     PG  1986-05-16   \n",
       "3     Action   85160248.0                    Aliens      R  1986-07-18   \n",
       "4  Adventure   18564613.0   Flight of the Navigator     PG  1986-08-01   \n",
       "\n",
       "   runtime  score               star   votes         writer  year  \n",
       "0       89    8.1        Wil Wheaton  299174   Stephen King  1986  \n",
       "1      103    7.8  Matthew Broderick  264740    John Hughes  1986  \n",
       "2      110    6.9         Tom Cruise  236909       Jim Cash  1986  \n",
       "3      137    8.4   Sigourney Weaver  540152  James Cameron  1986  \n",
       "4       90    6.9        Joey Cramer   36636  Mark H. Baker  1986  "
      ]
     },
     "execution_count": 81,
     "metadata": {},
     "output_type": "execute_result"
    }
   ],
   "source": [
    "data_raw = pd.read_csv('movies_fixed.csv')\n",
    "data_raw.head()"
   ]
  },
  {
   "cell_type": "markdown",
   "metadata": {},
   "source": [
    "### Helper functions"
   ]
  },
  {
   "cell_type": "code",
   "execution_count": 82,
   "metadata": {},
   "outputs": [],
   "source": [
    "def get_column_types(df):\n",
    "    qualitative = list(data_raw._get_numeric_data().columns)\n",
    "    quantitative = [c for c in list(df.columns) if c not in qualitative]\n",
    "    return qualitative, quantitative"
   ]
  },
  {
   "cell_type": "markdown",
   "metadata": {},
   "source": [
    "### Data transformation"
   ]
  },
  {
   "cell_type": "code",
   "execution_count": 83,
   "metadata": {},
   "outputs": [],
   "source": [
    "qualitative, quantitative = get_column_types(data_raw)"
   ]
  },
  {
   "cell_type": "markdown",
   "metadata": {},
   "source": [
    "#### Fill 'budget' with regression data. "
   ]
  },
  {
   "cell_type": "code",
   "execution_count": 124,
   "metadata": {},
   "outputs": [
    {
     "name": "stdout",
     "output_type": "stream",
     "text": [
      "CPU times: user 1min 13s, sys: 1.66 s, total: 1min 15s\n",
      "Wall time: 1min 16s\n"
     ]
    }
   ],
   "source": [
    "%%time\n",
    "TARGET_BUDGET = 'budget'\n",
    "from sklearn.ensemble import ExtraTreesRegressor\n",
    "from sklearn.feature_selection import SelectFromModel\n",
    "from sklearn.linear_model import ElasticNet\n",
    "from sklearn.metrics import mean_squared_error, r2_score\n",
    "\n",
    "def data_preparation_for_budget(df, quantitative):\n",
    "    result = df.copy()\n",
    "    result.drop(['name', 'released', 'votes'], axis=1, inplace=True)\n",
    "    result = pd.get_dummies(data=data_raw, columns=quantitative)   \n",
    "    return result\n",
    "\n",
    "def feature_selection_for_budget(train_raw):\n",
    "    X = train_raw.drop(TARGET_BUDGET, axis=1).copy()\n",
    "    y = train_raw[TARGET_BUDGET].copy()\n",
    "\n",
    "    etr = ExtraTreesRegressor()\n",
    "    etr = etr.fit(X, y)\n",
    "    model = SelectFromModel(etr, prefit=True)\n",
    "    no_important_features = model.transform(X).shape[1]\n",
    "    important_features =pd.DataFrame({\n",
    "        'feature': list(X.columns),\n",
    "        'feature_importance': list(etr.feature_importances_)\n",
    "    }).sort_values(by='feature_importance', ascending=False).head(no_important_features)\n",
    "    return list(important_features['feature'])\n",
    "    \n",
    "train_raw_for_budget = data_preparation_for_budget(data_raw, quantitative)\n",
    "important_features_for_budget = feature_selection_for_budget(train_raw_for_budget)"
   ]
  },
  {
   "cell_type": "code",
   "execution_count": 141,
   "metadata": {},
   "outputs": [
    {
     "name": "stdout",
     "output_type": "stream",
     "text": [
      "MSE: 563130488412903.0\n",
      "R2: 0.5743725035711027\n",
      "CPU times: user 23.8 s, sys: 89.8 ms, total: 23.9 s\n",
      "Wall time: 8.02 s\n"
     ]
    },
    {
     "name": "stderr",
     "output_type": "stream",
     "text": [
      "/Users/slechwar/miniconda3/lib/python3.6/site-packages/sklearn/linear_model/coordinate_descent.py:491: ConvergenceWarning: Objective did not converge. You might want to increase the number of iterations. Fitting data with very small alpha may cause precision problems.\n",
      "  ConvergenceWarning)\n"
     ]
    },
    {
     "data": {
      "image/png": "[encoded data removed]",
      "text/plain": [
       "<Figure size 1080x360 with 1 Axes>"
      ]
     },
     "metadata": {},
     "output_type": "display_data"
    }
   ],
   "source": [
    "%%time\n",
    "# Prepare model.\n",
    "def prepare_model_for_budget(train_raw, important_features):\n",
    "    train = train_raw[important_features].copy()\n",
    "    train[TARGET_BUDGET] = train_raw[TARGET_BUDGET].copy()\n",
    "\n",
    "    y = train[TARGET_BUDGET]\n",
    "    X = train.drop(TARGET_BUDGET, axis=1)\n",
    "    X_train, X_eval, y_train, y_eval = train_test_split(X, y, test_size=0.2, random_state=12)\n",
    "    \n",
    "    # Training.\n",
    "    elastic_net = ElasticNet()\n",
    "    elastic_net.fit(X_train, y_train)\n",
    "    \n",
    "    # Evaluation.\n",
    "    prediction = elastic_net.predict(X_eval)\n",
    "    print('MSE: {}'.format(mean_squared_error(y_eval, prediction)))\n",
    "    print('R2: {}'.format(r2_score(y_eval, prediction)))\n",
    "    \n",
    "    plt.figure(figsize=(15,5))\n",
    "    plt.scatter(prediction, y_eval - prediction)\n",
    "        \n",
    "    return elastic_net\n",
    "\n",
    "model_for_budget = prepare_model_for_budget(train_raw_for_budget, important_features_for_budget)"
   ]
  },
  {
   "cell_type": "code",
   "execution_count": 157,
   "metadata": {},
   "outputs": [],
   "source": [
    "df = data_raw.copy()\n",
    "# def fill_empty_budget(df, quantitative, important_features_for_budget, model_for_budget):\n",
    "index_to_predict = list(df[df['budget'] == 0.0].index)\n",
    "\n",
    "df = data_preparation_for_budget(df, quantitative)\n",
    "df = df[important_features_for_budget]\n",
    "prediction = pd.Series(data=model_for_budget.predict(df.loc[index_to_predict, :]), index=index_to_predict)"
   ]
  },
  {
   "cell_type": "code",
   "execution_count": null,
   "metadata": {},
   "outputs": [],
   "source": []
  },
  {
   "cell_type": "code",
   "execution_count": 163,
   "metadata": {},
   "outputs": [
    {
     "name": "stderr",
     "output_type": "stream",
     "text": [
      "/Users/slechwar/miniconda3/lib/python3.6/site-packages/ipykernel_launcher.py:1: RuntimeWarning: invalid value encountered in log1p\n",
      "  \"\"\"Entry point for launching an IPython kernel.\n"
     ]
    },
    {
     "data": {
      "text/plain": [
       "25      16.424058\n",
       "26      15.267500\n",
       "27      16.934534\n",
       "32      12.113989\n",
       "35      17.817829\n",
       "36      15.534302\n",
       "41      16.396785\n",
       "48      16.714409\n",
       "49      16.071289\n",
       "56            NaN\n",
       "59            NaN\n",
       "61      15.719569\n",
       "63      15.646059\n",
       "64      15.337334\n",
       "65      15.469730\n",
       "69      14.010827\n",
       "70      16.545366\n",
       "71      16.525341\n",
       "72      14.510478\n",
       "73      11.096500\n",
       "75      16.065926\n",
       "76      16.521521\n",
       "78      16.802421\n",
       "80      14.738141\n",
       "81      16.289065\n",
       "85            NaN\n",
       "86      14.321209\n",
       "90      14.817176\n",
       "91      16.055884\n",
       "93            NaN\n",
       "          ...    \n",
       "6748    16.920015\n",
       "6749    16.628216\n",
       "6757    16.717997\n",
       "6758    16.843381\n",
       "6762    17.006501\n",
       "6764    17.055586\n",
       "6765    16.819212\n",
       "6766    17.119149\n",
       "6768    16.998840\n",
       "6772    16.743227\n",
       "6773    16.181133\n",
       "6774    16.264615\n",
       "6776    16.855305\n",
       "6783    16.900747\n",
       "6784    16.645750\n",
       "6788    16.636330\n",
       "6791    16.621547\n",
       "6795    16.760303\n",
       "6801    16.816162\n",
       "6802    16.741905\n",
       "6804    16.941827\n",
       "6805    16.661309\n",
       "6806    16.772174\n",
       "6810    16.854993\n",
       "6812    16.682935\n",
       "6813    17.007800\n",
       "6815    16.676321\n",
       "6816    16.892531\n",
       "6818    16.132654\n",
       "6819    16.805468\n",
       "Length: 2182, dtype: float64"
      ]
     },
     "execution_count": 163,
     "metadata": {},
     "output_type": "execute_result"
    }
   ],
   "source": [
    "from sklearn.preprocessing import minmax_scale, \n",
    "prediction"
   ]
  },
  {
   "cell_type": "code",
   "execution_count": null,
   "metadata": {},
   "outputs": [],
   "source": []
  },
  {
   "cell_type": "code",
   "execution_count": null,
   "metadata": {},
   "outputs": [],
   "source": []
  },
  {
   "cell_type": "code",
   "execution_count": null,
   "metadata": {},
   "outputs": [],
   "source": []
  },
  {
   "cell_type": "code",
   "execution_count": null,
   "metadata": {},
   "outputs": [],
   "source": []
  },
  {
   "cell_type": "code",
   "execution_count": null,
   "metadata": {},
   "outputs": [],
   "source": []
  },
  {
   "cell_type": "code",
   "execution_count": 127,
   "metadata": {},
   "outputs": [],
   "source": [
    "def data_raw_transformation(data_raw):\n",
    "    result = data_raw.copy()\n",
    "    # Use regression to fill 0.0's in budget.\n",
    "    # TBD\n",
    "    \n",
    "    # figure out same bin edges!!!\n",
    "    \n",
    "    # Ceate bucket'ize version of budget.\n",
    "    result['budget_bin'] = pd.qcut(\n",
    "        x=result['budget'], q=5, labels=['low', 'medium', 'high', 'extreme'], duplicates='drop')\n",
    "    # Create bucket'ize version of gross.\n",
    "    result['gross_bin'] = pd.qcut(\n",
    "        x=result['gross'], q=4, labels=['low', 'medium', 'high', 'extreme'], duplicates='drop')    \n",
    "    # Create bucket'ize version of votes.\n",
    "    result['votes_bin'] = pd.qcut(\n",
    "        x=result['votes'], q=4, labels=['few', 'some', 'many', 'a lot of'], duplicates='drop')        \n",
    "    # Create bucket'ize version of runtime.\n",
    "    # Create bucket'ize version of released (spring, summer, autumn, winter).\n",
    "    \n",
    "    \n",
    "    return result\n",
    "\n",
    "data = data_raw_transformation(data_raw)"
   ]
  },
  {
   "cell_type": "code",
   "execution_count": null,
   "metadata": {},
   "outputs": [],
   "source": []
  },
  {
   "cell_type": "code",
   "execution_count": null,
   "metadata": {},
   "outputs": [],
   "source": []
  },
  {
   "cell_type": "code",
   "execution_count": null,
   "metadata": {},
   "outputs": [],
   "source": []
  },
  {
   "cell_type": "markdown",
   "metadata": {},
   "source": [
    "## Data analysis"
   ]
  },
  {
   "cell_type": "markdown",
   "metadata": {},
   "source": [
    "### Budget"
   ]
  },
  {
   "cell_type": "code",
   "execution_count": 55,
   "metadata": {},
   "outputs": [
    {
     "name": "stderr",
     "output_type": "stream",
     "text": [
      "/Users/slechwar/miniconda3/lib/python3.6/site-packages/matplotlib/axes/_axes.py:6462: UserWarning: The 'normed' kwarg is deprecated, and has been replaced by the 'density' kwarg.\n",
      "  warnings.warn(\"The 'normed' kwarg is deprecated, and has been \"\n"
     ]
    },
    {
     "data": {
      "text/plain": [
       "<matplotlib.axes._subplots.AxesSubplot at 0x1a1a457ba8>"
      ]
     },
     "execution_count": 55,
     "metadata": {},
     "output_type": "execute_result"
    },
    {
     "data": {
      "image/png": "[encoded data removed]",
      "text/plain": [
       "<Figure size 432x288 with 1 Axes>"
      ]
     },
     "metadata": {},
     "output_type": "display_data"
    }
   ],
   "source": [
    "sns.distplot(data_raw['budget'])"
   ]
  },
  {
   "cell_type": "code",
   "execution_count": 56,
   "metadata": {},
   "outputs": [
    {
     "data": {
      "text/plain": [
       "0.0           2182\n",
       "20000000.0     207\n",
       "30000000.0     191\n",
       "25000000.0     177\n",
       "15000000.0     170\n",
       "Name: budget, dtype: int64"
      ]
     },
     "execution_count": 56,
     "metadata": {},
     "output_type": "execute_result"
    }
   ],
   "source": [
    "data_raw['budget'].value_counts().head()\n",
    "# We have more than 2000 zero budget movies. Is that correct? Let's check this out..."
   ]
  },
  {
   "cell_type": "code",
   "execution_count": 57,
   "metadata": {},
   "outputs": [
    {
     "data": {
      "text/html": [
       "<div>\n",
       "<style scoped>\n",
       "    .dataframe tbody tr th:only-of-type {\n",
       "        vertical-align: middle;\n",
       "    }\n",
       "\n",
       "    .dataframe tbody tr th {\n",
       "        vertical-align: top;\n",
       "    }\n",
       "\n",
       "    .dataframe thead th {\n",
       "        text-align: right;\n",
       "    }\n",
       "</style>\n",
       "<table border=\"1\" class=\"dataframe\">\n",
       "  <thead>\n",
       "    <tr style=\"text-align: right;\">\n",
       "      <th></th>\n",
       "      <th>budget</th>\n",
       "      <th>company</th>\n",
       "      <th>country</th>\n",
       "      <th>director</th>\n",
       "      <th>genre</th>\n",
       "      <th>gross</th>\n",
       "      <th>name</th>\n",
       "      <th>rating</th>\n",
       "      <th>released</th>\n",
       "      <th>runtime</th>\n",
       "      <th>score</th>\n",
       "      <th>star</th>\n",
       "      <th>votes</th>\n",
       "      <th>writer</th>\n",
       "      <th>year</th>\n",
       "    </tr>\n",
       "  </thead>\n",
       "  <tbody>\n",
       "    <tr>\n",
       "      <th>25</th>\n",
       "      <td>0.0</td>\n",
       "      <td>TriStar Pictures</td>\n",
       "      <td>USA</td>\n",
       "      <td>John Badham</td>\n",
       "      <td>Comedy</td>\n",
       "      <td>40697761.0</td>\n",
       "      <td>Short Circuit</td>\n",
       "      <td>PG</td>\n",
       "      <td>1986-05-09</td>\n",
       "      <td>98</td>\n",
       "      <td>6.6</td>\n",
       "      <td>Ally Sheedy</td>\n",
       "      <td>47068</td>\n",
       "      <td>S.S. Wilson</td>\n",
       "      <td>1986</td>\n",
       "    </tr>\n",
       "    <tr>\n",
       "      <th>26</th>\n",
       "      <td>0.0</td>\n",
       "      <td>Neue Constantin Film</td>\n",
       "      <td>Italy</td>\n",
       "      <td>Jean-Jacques Annaud</td>\n",
       "      <td>Crime</td>\n",
       "      <td>7153487.0</td>\n",
       "      <td>The Name of the Rose</td>\n",
       "      <td>R</td>\n",
       "      <td>1986-09-24</td>\n",
       "      <td>130</td>\n",
       "      <td>7.8</td>\n",
       "      <td>Sean Connery</td>\n",
       "      <td>86991</td>\n",
       "      <td>Umberto Eco</td>\n",
       "      <td>1986</td>\n",
       "    </tr>\n",
       "    <tr>\n",
       "      <th>27</th>\n",
       "      <td>0.0</td>\n",
       "      <td>TriStar Pictures</td>\n",
       "      <td>USA</td>\n",
       "      <td>Sidney J. Furie</td>\n",
       "      <td>Action</td>\n",
       "      <td>24159872.0</td>\n",
       "      <td>Iron Eagle</td>\n",
       "      <td>PG-13</td>\n",
       "      <td>1986-01-17</td>\n",
       "      <td>117</td>\n",
       "      <td>5.3</td>\n",
       "      <td>Louis Gossett Jr.</td>\n",
       "      <td>11304</td>\n",
       "      <td>Kevin Alyn Elders</td>\n",
       "      <td>1986</td>\n",
       "    </tr>\n",
       "    <tr>\n",
       "      <th>32</th>\n",
       "      <td>0.0</td>\n",
       "      <td>Gaumont</td>\n",
       "      <td>France</td>\n",
       "      <td>Jean-Jacques Beineix</td>\n",
       "      <td>Drama</td>\n",
       "      <td>2003822.0</td>\n",
       "      <td>Betty Blue</td>\n",
       "      <td>Not specified</td>\n",
       "      <td>1986-11-07</td>\n",
       "      <td>120</td>\n",
       "      <td>7.4</td>\n",
       "      <td>Jean-Hugues Anglade</td>\n",
       "      <td>14562</td>\n",
       "      <td>Philippe Djian</td>\n",
       "      <td>1986</td>\n",
       "    </tr>\n",
       "    <tr>\n",
       "      <th>35</th>\n",
       "      <td>0.0</td>\n",
       "      <td>Columbia Pictures Corporation</td>\n",
       "      <td>USA</td>\n",
       "      <td>John G. Avildsen</td>\n",
       "      <td>Action</td>\n",
       "      <td>115103979.0</td>\n",
       "      <td>The Karate Kid Part II</td>\n",
       "      <td>PG</td>\n",
       "      <td>1986-06-20</td>\n",
       "      <td>113</td>\n",
       "      <td>5.9</td>\n",
       "      <td>Pat Morita</td>\n",
       "      <td>58370</td>\n",
       "      <td>Robert Mark Kamen</td>\n",
       "      <td>1986</td>\n",
       "    </tr>\n",
       "  </tbody>\n",
       "</table>\n",
       "</div>"
      ],
      "text/plain": [
       "    budget                        company country              director  \\\n",
       "25     0.0               TriStar Pictures     USA           John Badham   \n",
       "26     0.0           Neue Constantin Film   Italy   Jean-Jacques Annaud   \n",
       "27     0.0               TriStar Pictures     USA       Sidney J. Furie   \n",
       "32     0.0                        Gaumont  France  Jean-Jacques Beineix   \n",
       "35     0.0  Columbia Pictures Corporation     USA      John G. Avildsen   \n",
       "\n",
       "     genre        gross                    name         rating    released  \\\n",
       "25  Comedy   40697761.0           Short Circuit             PG  1986-05-09   \n",
       "26   Crime    7153487.0    The Name of the Rose              R  1986-09-24   \n",
       "27  Action   24159872.0              Iron Eagle          PG-13  1986-01-17   \n",
       "32   Drama    2003822.0              Betty Blue  Not specified  1986-11-07   \n",
       "35  Action  115103979.0  The Karate Kid Part II             PG  1986-06-20   \n",
       "\n",
       "    runtime  score                 star  votes             writer  year  \n",
       "25       98    6.6          Ally Sheedy  47068        S.S. Wilson  1986  \n",
       "26      130    7.8         Sean Connery  86991        Umberto Eco  1986  \n",
       "27      117    5.3    Louis Gossett Jr.  11304  Kevin Alyn Elders  1986  \n",
       "32      120    7.4  Jean-Hugues Anglade  14562     Philippe Djian  1986  \n",
       "35      113    5.9           Pat Morita  58370  Robert Mark Kamen  1986  "
      ]
     },
     "execution_count": 57,
     "metadata": {},
     "output_type": "execute_result"
    }
   ],
   "source": [
    "data_raw[data_raw['budget'] == 0.0].head()\n",
    "# \"The Name of the Rose\" is for sure NOT zero budget movie, I need to treat that as unknown"
   ]
  },
  {
   "cell_type": "code",
   "execution_count": 58,
   "metadata": {},
   "outputs": [
    {
     "data": {
      "text/html": [
       "<div>\n",
       "<style scoped>\n",
       "    .dataframe tbody tr th:only-of-type {\n",
       "        vertical-align: middle;\n",
       "    }\n",
       "\n",
       "    .dataframe tbody tr th {\n",
       "        vertical-align: top;\n",
       "    }\n",
       "\n",
       "    .dataframe thead th {\n",
       "        text-align: right;\n",
       "    }\n",
       "</style>\n",
       "<table border=\"1\" class=\"dataframe\">\n",
       "  <thead>\n",
       "    <tr style=\"text-align: right;\">\n",
       "      <th></th>\n",
       "      <th>budget</th>\n",
       "      <th>company</th>\n",
       "      <th>country</th>\n",
       "      <th>director</th>\n",
       "      <th>genre</th>\n",
       "      <th>gross</th>\n",
       "      <th>name</th>\n",
       "      <th>rating</th>\n",
       "      <th>released</th>\n",
       "      <th>runtime</th>\n",
       "      <th>score</th>\n",
       "      <th>star</th>\n",
       "      <th>votes</th>\n",
       "      <th>writer</th>\n",
       "      <th>year</th>\n",
       "    </tr>\n",
       "  </thead>\n",
       "  <tbody>\n",
       "    <tr>\n",
       "      <th>4631</th>\n",
       "      <td>300000000.0</td>\n",
       "      <td>Walt Disney Pictures</td>\n",
       "      <td>USA</td>\n",
       "      <td>Gore Verbinski</td>\n",
       "      <td>Action</td>\n",
       "      <td>309420425.0</td>\n",
       "      <td>Pirates of the Caribbean: At World's End</td>\n",
       "      <td>PG-13</td>\n",
       "      <td>2007-05-25</td>\n",
       "      <td>169</td>\n",
       "      <td>7.1</td>\n",
       "      <td>Johnny Depp</td>\n",
       "      <td>514191</td>\n",
       "      <td>Ted Elliott</td>\n",
       "      <td>2007</td>\n",
       "    </tr>\n",
       "    <tr>\n",
       "      <th>5293</th>\n",
       "      <td>260000000.0</td>\n",
       "      <td>Walt Disney Animation Studios</td>\n",
       "      <td>USA</td>\n",
       "      <td>Nathan Greno</td>\n",
       "      <td>Animation</td>\n",
       "      <td>200821936.0</td>\n",
       "      <td>Tangled</td>\n",
       "      <td>PG</td>\n",
       "      <td>2010-11-24</td>\n",
       "      <td>100</td>\n",
       "      <td>7.8</td>\n",
       "      <td>Mandy Moore</td>\n",
       "      <td>325621</td>\n",
       "      <td>Dan Fogelman</td>\n",
       "      <td>2010</td>\n",
       "    </tr>\n",
       "    <tr>\n",
       "      <th>4637</th>\n",
       "      <td>258000000.0</td>\n",
       "      <td>Columbia Pictures</td>\n",
       "      <td>USA</td>\n",
       "      <td>Sam Raimi</td>\n",
       "      <td>Action</td>\n",
       "      <td>336530303.0</td>\n",
       "      <td>Spider-Man 3</td>\n",
       "      <td>PG-13</td>\n",
       "      <td>2007-05-04</td>\n",
       "      <td>139</td>\n",
       "      <td>6.2</td>\n",
       "      <td>Tobey Maguire</td>\n",
       "      <td>416842</td>\n",
       "      <td>Sam Raimi</td>\n",
       "      <td>2007</td>\n",
       "    </tr>\n",
       "    <tr>\n",
       "      <th>6624</th>\n",
       "      <td>250000000.0</td>\n",
       "      <td>Marvel Studios</td>\n",
       "      <td>USA</td>\n",
       "      <td>Anthony Russo</td>\n",
       "      <td>Action</td>\n",
       "      <td>408084349.0</td>\n",
       "      <td>Captain America: Civil War</td>\n",
       "      <td>PG-13</td>\n",
       "      <td>2016-05-06</td>\n",
       "      <td>147</td>\n",
       "      <td>7.9</td>\n",
       "      <td>Chris Evans</td>\n",
       "      <td>442645</td>\n",
       "      <td>Christopher Markus</td>\n",
       "      <td>2016</td>\n",
       "    </tr>\n",
       "    <tr>\n",
       "      <th>6194</th>\n",
       "      <td>250000000.0</td>\n",
       "      <td>New Line Cinema</td>\n",
       "      <td>New Zealand</td>\n",
       "      <td>Peter Jackson</td>\n",
       "      <td>Adventure</td>\n",
       "      <td>255119788.0</td>\n",
       "      <td>The Hobbit: The Battle of the Five Armies</td>\n",
       "      <td>PG-13</td>\n",
       "      <td>2014-12-17</td>\n",
       "      <td>144</td>\n",
       "      <td>7.4</td>\n",
       "      <td>Ian McKellen</td>\n",
       "      <td>396797</td>\n",
       "      <td>Fran Walsh</td>\n",
       "      <td>2014</td>\n",
       "    </tr>\n",
       "  </tbody>\n",
       "</table>\n",
       "</div>"
      ],
      "text/plain": [
       "           budget                        company      country        director  \\\n",
       "4631  300000000.0           Walt Disney Pictures          USA  Gore Verbinski   \n",
       "5293  260000000.0  Walt Disney Animation Studios          USA    Nathan Greno   \n",
       "4637  258000000.0              Columbia Pictures          USA       Sam Raimi   \n",
       "6624  250000000.0                 Marvel Studios          USA   Anthony Russo   \n",
       "6194  250000000.0                New Line Cinema  New Zealand   Peter Jackson   \n",
       "\n",
       "          genre        gross                                       name  \\\n",
       "4631     Action  309420425.0   Pirates of the Caribbean: At World's End   \n",
       "5293  Animation  200821936.0                                    Tangled   \n",
       "4637     Action  336530303.0                               Spider-Man 3   \n",
       "6624     Action  408084349.0                 Captain America: Civil War   \n",
       "6194  Adventure  255119788.0  The Hobbit: The Battle of the Five Armies   \n",
       "\n",
       "     rating    released  runtime  score           star   votes  \\\n",
       "4631  PG-13  2007-05-25      169    7.1    Johnny Depp  514191   \n",
       "5293     PG  2010-11-24      100    7.8    Mandy Moore  325621   \n",
       "4637  PG-13  2007-05-04      139    6.2  Tobey Maguire  416842   \n",
       "6624  PG-13  2016-05-06      147    7.9    Chris Evans  442645   \n",
       "6194  PG-13  2014-12-17      144    7.4   Ian McKellen  396797   \n",
       "\n",
       "                  writer  year  \n",
       "4631         Ted Elliott  2007  \n",
       "5293        Dan Fogelman  2010  \n",
       "4637           Sam Raimi  2007  \n",
       "6624  Christopher Markus  2016  \n",
       "6194          Fran Walsh  2014  "
      ]
     },
     "execution_count": 58,
     "metadata": {},
     "output_type": "execute_result"
    }
   ],
   "source": [
    "# What was higher budget movies? Is that real?\n",
    "data_raw.sort_values(by='budget', ascending=False).head()\n",
    "# Seems real.\n",
    "# Idea for data transformation -> create bucket'ize version of variable"
   ]
  },
  {
   "cell_type": "markdown",
   "metadata": {},
   "source": [
    "### Gross"
   ]
  },
  {
   "cell_type": "code",
   "execution_count": 59,
   "metadata": {},
   "outputs": [
    {
     "data": {
      "text/html": [
       "<div>\n",
       "<style scoped>\n",
       "    .dataframe tbody tr th:only-of-type {\n",
       "        vertical-align: middle;\n",
       "    }\n",
       "\n",
       "    .dataframe tbody tr th {\n",
       "        vertical-align: top;\n",
       "    }\n",
       "\n",
       "    .dataframe thead th {\n",
       "        text-align: right;\n",
       "    }\n",
       "</style>\n",
       "<table border=\"1\" class=\"dataframe\">\n",
       "  <thead>\n",
       "    <tr style=\"text-align: right;\">\n",
       "      <th></th>\n",
       "      <th>budget</th>\n",
       "      <th>company</th>\n",
       "      <th>country</th>\n",
       "      <th>director</th>\n",
       "      <th>genre</th>\n",
       "      <th>gross</th>\n",
       "      <th>name</th>\n",
       "      <th>rating</th>\n",
       "      <th>released</th>\n",
       "      <th>runtime</th>\n",
       "      <th>score</th>\n",
       "      <th>star</th>\n",
       "      <th>votes</th>\n",
       "      <th>writer</th>\n",
       "      <th>year</th>\n",
       "    </tr>\n",
       "  </thead>\n",
       "  <tbody>\n",
       "  </tbody>\n",
       "</table>\n",
       "</div>"
      ],
      "text/plain": [
       "Empty DataFrame\n",
       "Columns: [budget, company, country, director, genre, gross, name, rating, released, runtime, score, star, votes, writer, year]\n",
       "Index: []"
      ]
     },
     "execution_count": 59,
     "metadata": {},
     "output_type": "execute_result"
    }
   ],
   "source": [
    "data_raw[data_raw['gross'] == 0.0]\n",
    "# no 0.0's"
   ]
  },
  {
   "cell_type": "markdown",
   "metadata": {},
   "source": [
    "### Comapny"
   ]
  },
  {
   "cell_type": "code",
   "execution_count": 60,
   "metadata": {},
   "outputs": [
    {
     "data": {
      "text/plain": [
       "(2179,)"
      ]
     },
     "execution_count": 60,
     "metadata": {},
     "output_type": "execute_result"
    }
   ],
   "source": [
    "data_raw['company'].value_counts().shape"
   ]
  },
  {
   "cell_type": "code",
   "execution_count": 61,
   "metadata": {},
   "outputs": [
    {
     "data": {
      "text/plain": [
       "Universal Pictures                        302\n",
       "Warner Bros.                              294\n",
       "Paramount Pictures                        259\n",
       "Twentieth Century Fox Film Corporation    205\n",
       "New Line Cinema                           172\n",
       "Name: company, dtype: int64"
      ]
     },
     "execution_count": 61,
     "metadata": {},
     "output_type": "execute_result"
    }
   ],
   "source": [
    "data_raw['company'].value_counts().head()"
   ]
  },
  {
   "cell_type": "markdown",
   "metadata": {},
   "source": [
    "### Country"
   ]
  },
  {
   "cell_type": "code",
   "execution_count": 62,
   "metadata": {},
   "outputs": [
    {
     "data": {
      "text/plain": [
       "(57,)"
      ]
     },
     "execution_count": 62,
     "metadata": {},
     "output_type": "execute_result"
    }
   ],
   "source": [
    "data_raw['country'].value_counts().shape"
   ]
  },
  {
   "cell_type": "code",
   "execution_count": 63,
   "metadata": {},
   "outputs": [
    {
     "data": {
      "text/plain": [
       "USA        4872\n",
       "UK          698\n",
       "France      283\n",
       "Canada      150\n",
       "Germany     134\n",
       "Name: country, dtype: int64"
      ]
     },
     "execution_count": 63,
     "metadata": {},
     "output_type": "execute_result"
    }
   ],
   "source": [
    "data_raw['country'].value_counts().head()"
   ]
  },
  {
   "cell_type": "code",
   "execution_count": 64,
   "metadata": {},
   "outputs": [],
   "source": [
    "top_5_countries = list(data_raw['country'].value_counts().head(5).index)\n",
    "data_raw_top_5_countries = data_raw[data_raw['country'].isin(top_5_countries)]"
   ]
  },
  {
   "cell_type": "code",
   "execution_count": 65,
   "metadata": {},
   "outputs": [
    {
     "data": {
      "image/png": "[encoded data removed]",
      "text/plain": [
       "<Figure size 1080x360 with 2 Axes>"
      ]
     },
     "metadata": {},
     "output_type": "display_data"
    }
   ],
   "source": [
    "plt.figure(figsize=(15,5))\n",
    "\n",
    "plt.subplot(121)\n",
    "sns.boxplot(x='country', y='budget', data=data_raw_top_5_countries)\n",
    "\n",
    "plt.subplot(122)\n",
    "sns.boxplot(x='country', y='gross', data=data_raw_top_5_countries)\n",
    "\n",
    "plt.tight_layout()"
   ]
  },
  {
   "cell_type": "markdown",
   "metadata": {},
   "source": [
    "### Rating"
   ]
  },
  {
   "cell_type": "code",
   "execution_count": 66,
   "metadata": {},
   "outputs": [
    {
     "data": {
      "text/plain": [
       "R                3392\n",
       "PG-13            1995\n",
       "PG                951\n",
       "NOT RATED         174\n",
       "G                 147\n",
       "UNRATED            71\n",
       "Not specified      63\n",
       "NC-17              22\n",
       "TV-14               1\n",
       "B15                 1\n",
       "TV-PG               1\n",
       "B                   1\n",
       "TV-MA               1\n",
       "Name: rating, dtype: int64"
      ]
     },
     "execution_count": 66,
     "metadata": {},
     "output_type": "execute_result"
    }
   ],
   "source": [
    "data_raw['rating'].value_counts()\n",
    "# Some explainantions:\n",
    "# https://en.wikipedia.org/wiki/Motion_Picture_Association_of_America_film_rating_system\n",
    "# Seems that we got a lot \"R\" restricted movies."
   ]
  },
  {
   "cell_type": "code",
   "execution_count": 50,
   "metadata": {},
   "outputs": [],
   "source": []
  }
 ],
 "metadata": {
  "kernelspec": {
   "display_name": "Python 3",
   "language": "python",
   "name": "python3"
  },
  "language_info": {
   "codemirror_mode": {
    "name": "ipython",
    "version": 3
   },
   "file_extension": ".py",
   "mimetype": "text/x-python",
   "name": "python",
   "nbconvert_exporter": "python",
   "pygments_lexer": "ipython3",
   "version": "3.6.5"
  }
 },
 "nbformat": 4,
 "nbformat_minor": 2
}
