{
 "cells": [
  {
   "cell_type": "code",
   "execution_count": 69,
   "metadata": {},
   "outputs": [],
   "source": [
    "'''You are provided with daily historical sales data. \n",
    "The task is to forecast the total amount of products sold in every shop for the test set. \n",
    "Note that the list of shops and products slightly changes every month. \n",
    "Creating a robust model that can handle such situations is part of the challenge.\n",
    "\n",
    "Link: https://www.kaggle.com/c/competitive-data-science-predict-future-sales\n",
    "\n",
    "My assumptions:\n",
    "- I do not care about russian names, I do not understand them. I will stick to IDs. \n",
    "-- On data load will skip dictionary names: item_categories.csv and shops.csv\n",
    "- Minus \"-\" sign at item_cnt_day means that product was returned.\n",
    "- Because of negative values for target value we cannot transform using log function.\n",
    "- I'm intrested in shop x item x month aggregations.\n",
    "- Price can change in month so I need to take mean, median, max, min and std dev.\n",
    "- For target value sum should be enough (to be decided if for more complex analysis is the case).\n",
    "- For POC model I will work on:\n",
    "-- shop_id = 31\n",
    "-- item_id = 20949\n",
    "'''\n",
    "%reset"
   ]
  },
  {
   "cell_type": "code",
   "execution_count": 70,
   "metadata": {},
   "outputs": [],
   "source": [
    "import os\n",
    "import pandas as pd\n",
    "import numpy as np\n",
    "import matplotlib.pyplot as plt\n",
    "import seaborn as sns"
   ]
  },
  {
   "cell_type": "code",
   "execution_count": 213,
   "metadata": {},
   "outputs": [],
   "source": [
    "# \n",
    "FEATURES_ORIGINAL = [\n",
    "    'date',\n",
    "    'date_block_num',\n",
    "    'shop_id',\n",
    "    'item_id',\n",
    "    'item_category_id',\n",
    "    'item_price']\n",
    "TARGET = ['item_cnt_day']\n",
    "TARGET_STR = ''.join(['item_cnt_day'])\n",
    "\n",
    "def get_train():\n",
    "    train_raw = pd.read_csv('sales_train.csv')\n",
    "    items_raw = pd.read_csv('items.csv')    \n",
    "    train = pd.merge(left=train_raw, right=items_raw, on='item_id', how='left')\n",
    "    return train[FEATURES_ORIGINAL + TARGET]\n",
    "\n",
    "def get_test():\n",
    "    return pd.read_csv('test.csv')"
   ]
  },
  {
   "cell_type": "code",
   "execution_count": null,
   "metadata": {},
   "outputs": [],
   "source": []
  },
  {
   "cell_type": "code",
   "execution_count": 223,
   "metadata": {},
   "outputs": [],
   "source": [
    "train = get_train()\n",
    "test = get_test()\n",
    "\n",
    "def transfrom_train(train):\n",
    "    # Remove date_block_num (it's useful, but I don't want to use it).\n",
    "    train.drop('date_block_num', inplace=True, axis=1)\n",
    "    \n",
    "    # Add year, month, day columns.\n",
    "    train['year'] = train['date'].apply(lambda x: x.split('.')[2])\n",
    "    train['month'] = train['date'].apply(lambda x: x.split('.')[1])\n",
    "    train['year_month'] = train['year'] + '_' + train['month']\n",
    "\n",
    "    # Change ID's to qualitative - these will be my shop, item, category names.\n",
    "    train.loc[:, 'shop_id'] = train['shop_id'].astype(object)\n",
    "    train.loc[:, 'item_id'] = train['item_id'].astype(object)\n",
    "    train.loc[:, 'item_category_id'] = train['item_category_id'].astype(object)\n",
    "    \n",
    "    # Aggregation.\n",
    "    grouped = train.groupby(['year', 'month', 'year_month', 'shop_id', 'item_id'])\n",
    "    train = grouped.agg({\n",
    "        'item_price': ['mean', 'max', 'min', 'std'],\n",
    "        'item_cnt_day': 'sum'\n",
    "    }).reset_index()\n",
    "    train_columns_new = []\n",
    "    for upper, lower in list(train.columns):\n",
    "        column = upper + '_' + lower if lower != '' else upper\n",
    "        train_columns_new.append(column)    \n",
    "    train.columns = train_columns_new\n",
    "    \n",
    "    return train\n",
    "\n",
    "train = transfrom_train(train)"
   ]
  },
  {
   "cell_type": "code",
   "execution_count": 227,
   "metadata": {},
   "outputs": [],
   "source": [
    "def get_train_sample(train):\n",
    "    train_sample = train.loc[(train['shop_id'] == 31) & (train['item_id'] == 20949), :]\n",
    "    return train_sample\n",
    "\n",
    "train_sample = get_train_sample(train)"
   ]
  },
  {
   "cell_type": "code",
   "execution_count": 228,
   "metadata": {},
   "outputs": [
    {
     "data": {
      "text/html": [
       "<div>\n",
       "<style scoped>\n",
       "    .dataframe tbody tr th:only-of-type {\n",
       "        vertical-align: middle;\n",
       "    }\n",
       "\n",
       "    .dataframe tbody tr th {\n",
       "        vertical-align: top;\n",
       "    }\n",
       "\n",
       "    .dataframe thead th {\n",
       "        text-align: right;\n",
       "    }\n",
       "</style>\n",
       "<table border=\"1\" class=\"dataframe\">\n",
       "  <thead>\n",
       "    <tr style=\"text-align: right;\">\n",
       "      <th></th>\n",
       "      <th>year</th>\n",
       "      <th>month</th>\n",
       "      <th>year_month</th>\n",
       "      <th>shop_id</th>\n",
       "      <th>item_id</th>\n",
       "      <th>item_price_mean</th>\n",
       "      <th>item_price_max</th>\n",
       "      <th>item_price_min</th>\n",
       "      <th>item_price_std</th>\n",
       "      <th>item_cnt_day_sum</th>\n",
       "    </tr>\n",
       "  </thead>\n",
       "  <tbody>\n",
       "    <tr>\n",
       "      <th>216552</th>\n",
       "      <td>2013</td>\n",
       "      <td>04</td>\n",
       "      <td>2013_04</td>\n",
       "      <td>31</td>\n",
       "      <td>20949</td>\n",
       "      <td>5.000000</td>\n",
       "      <td>5.0</td>\n",
       "      <td>5.000000</td>\n",
       "      <td>0.000000</td>\n",
       "      <td>13.0</td>\n",
       "    </tr>\n",
       "    <tr>\n",
       "      <th>270202</th>\n",
       "      <td>2013</td>\n",
       "      <td>05</td>\n",
       "      <td>2013_05</td>\n",
       "      <td>31</td>\n",
       "      <td>20949</td>\n",
       "      <td>5.000000</td>\n",
       "      <td>5.0</td>\n",
       "      <td>5.000000</td>\n",
       "      <td>0.000000</td>\n",
       "      <td>384.0</td>\n",
       "    </tr>\n",
       "    <tr>\n",
       "      <th>325007</th>\n",
       "      <td>2013</td>\n",
       "      <td>06</td>\n",
       "      <td>2013_06</td>\n",
       "      <td>31</td>\n",
       "      <td>20949</td>\n",
       "      <td>4.998039</td>\n",
       "      <td>5.0</td>\n",
       "      <td>4.941176</td>\n",
       "      <td>0.010740</td>\n",
       "      <td>763.0</td>\n",
       "    </tr>\n",
       "    <tr>\n",
       "      <th>383106</th>\n",
       "      <td>2013</td>\n",
       "      <td>07</td>\n",
       "      <td>2013_07</td>\n",
       "      <td>31</td>\n",
       "      <td>20949</td>\n",
       "      <td>4.999390</td>\n",
       "      <td>5.0</td>\n",
       "      <td>4.984000</td>\n",
       "      <td>0.002903</td>\n",
       "      <td>799.0</td>\n",
       "    </tr>\n",
       "    <tr>\n",
       "      <th>441060</th>\n",
       "      <td>2013</td>\n",
       "      <td>08</td>\n",
       "      <td>2013_08</td>\n",
       "      <td>31</td>\n",
       "      <td>20949</td>\n",
       "      <td>5.000000</td>\n",
       "      <td>5.0</td>\n",
       "      <td>5.000000</td>\n",
       "      <td>0.000000</td>\n",
       "      <td>820.0</td>\n",
       "    </tr>\n",
       "  </tbody>\n",
       "</table>\n",
       "</div>"
      ],
      "text/plain": [
       "        year month year_month  shop_id  item_id  item_price_mean  \\\n",
       "216552  2013    04    2013_04       31    20949         5.000000   \n",
       "270202  2013    05    2013_05       31    20949         5.000000   \n",
       "325007  2013    06    2013_06       31    20949         4.998039   \n",
       "383106  2013    07    2013_07       31    20949         4.999390   \n",
       "441060  2013    08    2013_08       31    20949         5.000000   \n",
       "\n",
       "        item_price_max  item_price_min  item_price_std  item_cnt_day_sum  \n",
       "216552             5.0        5.000000        0.000000              13.0  \n",
       "270202             5.0        5.000000        0.000000             384.0  \n",
       "325007             5.0        4.941176        0.010740             763.0  \n",
       "383106             5.0        4.984000        0.002903             799.0  \n",
       "441060             5.0        5.000000        0.000000             820.0  "
      ]
     },
     "execution_count": 228,
     "metadata": {},
     "output_type": "execute_result"
    }
   ],
   "source": [
    "train_sample.head()"
   ]
  },
  {
   "cell_type": "code",
   "execution_count": 144,
   "metadata": {},
   "outputs": [
    {
     "name": "stdout",
     "output_type": "stream",
     "text": [
      "<class 'pandas.core.frame.DataFrame'>\n",
      "Int64Index: 2935849 entries, 0 to 2935848\n",
      "Data columns (total 8 columns):\n",
      "date                object\n",
      "shop_id             object\n",
      "item_id             object\n",
      "item_category_id    object\n",
      "item_price          float64\n",
      "item_cnt_day        float64\n",
      "year                object\n",
      "month               object\n",
      "dtypes: float64(2), object(6)\n",
      "memory usage: 281.6+ MB\n"
     ]
    }
   ],
   "source": [
    "train.info()"
   ]
  },
  {
   "cell_type": "code",
   "execution_count": 15,
   "metadata": {},
   "outputs": [
    {
     "data": {
      "text/html": [
       "<div>\n",
       "<style scoped>\n",
       "    .dataframe tbody tr th:only-of-type {\n",
       "        vertical-align: middle;\n",
       "    }\n",
       "\n",
       "    .dataframe tbody tr th {\n",
       "        vertical-align: top;\n",
       "    }\n",
       "\n",
       "    .dataframe thead th {\n",
       "        text-align: right;\n",
       "    }\n",
       "</style>\n",
       "<table border=\"1\" class=\"dataframe\">\n",
       "  <thead>\n",
       "    <tr style=\"text-align: right;\">\n",
       "      <th></th>\n",
       "      <th>ID</th>\n",
       "      <th>shop_id</th>\n",
       "      <th>item_id</th>\n",
       "    </tr>\n",
       "  </thead>\n",
       "  <tbody>\n",
       "    <tr>\n",
       "      <th>214195</th>\n",
       "      <td>214195</td>\n",
       "      <td>45</td>\n",
       "      <td>18454</td>\n",
       "    </tr>\n",
       "    <tr>\n",
       "      <th>214196</th>\n",
       "      <td>214196</td>\n",
       "      <td>45</td>\n",
       "      <td>16188</td>\n",
       "    </tr>\n",
       "    <tr>\n",
       "      <th>214197</th>\n",
       "      <td>214197</td>\n",
       "      <td>45</td>\n",
       "      <td>15757</td>\n",
       "    </tr>\n",
       "    <tr>\n",
       "      <th>214198</th>\n",
       "      <td>214198</td>\n",
       "      <td>45</td>\n",
       "      <td>19648</td>\n",
       "    </tr>\n",
       "    <tr>\n",
       "      <th>214199</th>\n",
       "      <td>214199</td>\n",
       "      <td>45</td>\n",
       "      <td>969</td>\n",
       "    </tr>\n",
       "  </tbody>\n",
       "</table>\n",
       "</div>"
      ],
      "text/plain": [
       "            ID  shop_id  item_id\n",
       "214195  214195       45    18454\n",
       "214196  214196       45    16188\n",
       "214197  214197       45    15757\n",
       "214198  214198       45    19648\n",
       "214199  214199       45      969"
      ]
     },
     "execution_count": 15,
     "metadata": {},
     "output_type": "execute_result"
    }
   ],
   "source": [
    "test.tail()"
   ]
  },
  {
   "cell_type": "markdown",
   "metadata": {},
   "source": [
    "### Data analysis"
   ]
  },
  {
   "cell_type": "code",
   "execution_count": 67,
   "metadata": {},
   "outputs": [
    {
     "data": {
      "text/plain": [
       "date                0\n",
       "date_block_num      0\n",
       "shop_id             0\n",
       "item_id             0\n",
       "item_category_id    0\n",
       "item_price          0\n",
       "item_cnt_day        0\n",
       "year                0\n",
       "month               0\n",
       "day                 0\n",
       "dtype: int64"
      ]
     },
     "execution_count": 67,
     "metadata": {},
     "output_type": "execute_result"
    }
   ],
   "source": [
    "# Check NULLs in train.\n",
    "train.isnull().sum()"
   ]
  },
  {
   "cell_type": "code",
   "execution_count": 68,
   "metadata": {},
   "outputs": [
    {
     "data": {
      "text/plain": [
       "ID         0\n",
       "shop_id    0\n",
       "item_id    0\n",
       "dtype: int64"
      ]
     },
     "execution_count": 68,
     "metadata": {},
     "output_type": "execute_result"
    }
   ],
   "source": [
    "# Check NULLs in test.\n",
    "test.isnull().sum()"
   ]
  },
  {
   "cell_type": "code",
   "execution_count": 131,
   "metadata": {},
   "outputs": [
    {
     "name": "stderr",
     "output_type": "stream",
     "text": [
      "/Users/slechwar/miniconda3/lib/python3.6/site-packages/matplotlib/axes/_axes.py:6462: UserWarning: The 'normed' kwarg is deprecated, and has been replaced by the 'density' kwarg.\n",
      "  warnings.warn(\"The 'normed' kwarg is deprecated, and has been \"\n"
     ]
    },
    {
     "data": {
      "text/plain": [
       "<matplotlib.axes._subplots.AxesSubplot at 0x1a5a9dde80>"
      ]
     },
     "execution_count": 131,
     "metadata": {},
     "output_type": "execute_result"
    },
    {
     "data": {
      "image/png": "[encoded data removed]",
      "text/plain": [
       "<Figure size 432x288 with 1 Axes>"
      ]
     },
     "metadata": {},
     "output_type": "display_data"
    }
   ],
   "source": [
    "# Take a look target variable.\n",
    "data = train[TARGET_STR]\n",
    "data = train.loc[train[TARGET_STR] > 20, TARGET_STR]\n",
    "sns.distplot(data, bins=20, kde=True)"
   ]
  },
  {
   "cell_type": "code",
   "execution_count": 229,
   "metadata": {},
   "outputs": [
    {
     "data": {
      "text/html": [
       "<div>\n",
       "<style scoped>\n",
       "    .dataframe tbody tr th:only-of-type {\n",
       "        vertical-align: middle;\n",
       "    }\n",
       "\n",
       "    .dataframe tbody tr th {\n",
       "        vertical-align: top;\n",
       "    }\n",
       "\n",
       "    .dataframe thead th {\n",
       "        text-align: right;\n",
       "    }\n",
       "</style>\n",
       "<table border=\"1\" class=\"dataframe\">\n",
       "  <thead>\n",
       "    <tr style=\"text-align: right;\">\n",
       "      <th></th>\n",
       "      <th>shop_id</th>\n",
       "      <th>item_id</th>\n",
       "      <th>item_cnt_day_sum</th>\n",
       "    </tr>\n",
       "  </thead>\n",
       "  <tbody>\n",
       "    <tr>\n",
       "      <th>16</th>\n",
       "      <td>31</td>\n",
       "      <td>20949</td>\n",
       "      <td>20</td>\n",
       "    </tr>\n",
       "    <tr>\n",
       "      <th>11</th>\n",
       "      <td>25</td>\n",
       "      <td>20949</td>\n",
       "      <td>15</td>\n",
       "    </tr>\n",
       "    <tr>\n",
       "      <th>19</th>\n",
       "      <td>54</td>\n",
       "      <td>20949</td>\n",
       "      <td>13</td>\n",
       "    </tr>\n",
       "    <tr>\n",
       "      <th>14</th>\n",
       "      <td>28</td>\n",
       "      <td>20949</td>\n",
       "      <td>13</td>\n",
       "    </tr>\n",
       "    <tr>\n",
       "      <th>13</th>\n",
       "      <td>27</td>\n",
       "      <td>20949</td>\n",
       "      <td>4</td>\n",
       "    </tr>\n",
       "  </tbody>\n",
       "</table>\n",
       "</div>"
      ],
      "text/plain": [
       "    shop_id  item_id  item_cnt_day_sum\n",
       "16       31    20949                20\n",
       "11       25    20949                15\n",
       "19       54    20949                13\n",
       "14       28    20949                13\n",
       "13       27    20949                 4"
      ]
     },
     "execution_count": 229,
     "metadata": {},
     "output_type": "execute_result"
    }
   ],
   "source": [
    "# Find record for data modeling.\n",
    "test = train.groupby(['year', 'shop_id']).agg({'item_cnt_day_sum': 'sum'}).reset_index()\n",
    "test = train.sort_values(by='item_cnt_day_sum', ascending=False)\n",
    "test2 = test.head(100).groupby(['shop_id', 'item_id']).agg({'item_cnt_day_sum': 'count'}).reset_index().sort_values(by='item_cnt_day_sum', ascending=False)\n",
    "test2.head()"
   ]
  },
  {
   "cell_type": "code",
   "execution_count": 232,
   "metadata": {},
   "outputs": [
    {
     "data": {
      "text/plain": [
       "<matplotlib.axes._subplots.AxesSubplot at 0x1a4fe3d908>"
      ]
     },
     "execution_count": 232,
     "metadata": {},
     "output_type": "execute_result"
    },
    {
     "data": {
      "image/png": "[encoded data removed]",
      "text/plain": [
       "<Figure size 432x288 with 1 Axes>"
      ]
     },
     "metadata": {},
     "output_type": "display_data"
    }
   ],
   "source": [
    "# Plot train_sample.\n",
    "sns.pointplot(x='year_month', y='item_cnt_day_sum', data=train_sample)"
   ]
  }
 ],
 "metadata": {
  "kernelspec": {
   "display_name": "Python 3",
   "language": "python",
   "name": "python3"
  },
  "language_info": {
   "codemirror_mode": {
    "name": "ipython",
    "version": 3
   },
   "file_extension": ".py",
   "mimetype": "text/x-python",
   "name": "python",
   "nbconvert_exporter": "python",
   "pygments_lexer": "ipython3",
   "version": "3.6.4"
  }
 },
 "nbformat": 4,
 "nbformat_minor": 2
}
